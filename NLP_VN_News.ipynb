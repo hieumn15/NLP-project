{
  "nbformat": 4,
  "nbformat_minor": 0,
  "metadata": {
    "colab": {
      "provenance": [],
      "gpuType": "T4"
    },
    "kernelspec": {
      "name": "python3",
      "display_name": "Python 3"
    },
    "language_info": {
      "name": "python"
    },
    "accelerator": "GPU"
  },
  "cells": [
    {
      "cell_type": "code",
      "source": [
        "# from google.colab import drive\n",
        "# drive.mount('/content/drive')"
      ],
      "metadata": {
        "id": "tI8-mazF5RaO"
      },
      "execution_count": 42,
      "outputs": []
    },
    {
      "cell_type": "code",
      "execution_count": 43,
      "metadata": {
        "id": "1885yKo-zlAj"
      },
      "outputs": [],
      "source": [
        "# !pip install pyvi"
      ]
    },
    {
      "cell_type": "code",
      "source": [
        "import numpy as np\n",
        "import pandas as pd\n",
        "import string\n",
        "from sklearn.model_selection import train_test_split\n",
        "from sklearn.preprocessing import LabelEncoder\n",
        "import tensorflow as tf\n",
        "from tensorflow.keras.preprocessing.text import Tokenizer\n",
        "from tensorflow.keras.preprocessing.sequence import pad_sequences\n",
        "from tensorflow.keras.utils import to_categorical\n",
        "from tensorflow.keras.models import Sequential\n",
        "from tensorflow.keras.layers import Embedding, LSTM, Dense, Bidirectional\n",
        "import joblib\n",
        "from sklearn.metrics import accuracy_score, precision_score, recall_score, f1_score\n",
        "from pyvi import ViTokenizer\n",
        "import re\n",
        "from tensorflow.keras import backend as K\n",
        "\n",
        "import matplotlib.pyplot as plt\n",
        "import warnings\n",
        "warnings.filterwarnings(\"ignore\")"
      ],
      "metadata": {
        "id": "fXl2Hoo1zqCt"
      },
      "execution_count": 44,
      "outputs": []
    },
    {
      "cell_type": "code",
      "source": [
        "data = pd.read_excel(\"/content/drive/MyDrive/data/News/data VN/vntoken.xlsx\")"
      ],
      "metadata": {
        "id": "xePm-p3R0HA2"
      },
      "execution_count": 45,
      "outputs": []
    },
    {
      "cell_type": "code",
      "source": [
        "data.head()"
      ],
      "metadata": {
        "id": "CKCo1Lrc4Xkm",
        "colab": {
          "base_uri": "https://localhost:8080/",
          "height": 293
        },
        "outputId": "50adc21b-c12a-4474-a0aa-b8c96bef161e"
      },
      "execution_count": 46,
      "outputs": [
        {
          "output_type": "execute_result",
          "data": {
            "text/plain": [
              "                                                 URL  \\\n",
              "0  https://laodong.vn/ban-doc/cach-tham-gia-bao-h...   \n",
              "1  https://laodong.vn/ban-doc/quang-tri-cay-co-da...   \n",
              "2  https://laodong.vn/ban-doc/lao-cai-dan-khat-nu...   \n",
              "3  https://laodong.vn/ban-doc/quy-dinh-ve-viec-la...   \n",
              "4  https://laodong.vn/ban-doc/iphone-12-va-dang-c...   \n",
              "\n",
              "                                               Title  \\\n",
              "0  Cách tham gia Bảo hiểm xã hội tự nguyện sau kh...   \n",
              "1  Quảng Trị: Cây cọ dầu ở nơi có dự án của Vingr...   \n",
              "2  Lào Cai: Dân khát nước bên công trình nước sạc...   \n",
              "3  Quy định về việc làm giám định sức khoẻ để ngh...   \n",
              "4  iPhone 12 và đẳng cấp “móc túi” người dùng của...   \n",
              "\n",
              "                                             Summary  \\\n",
              "0  Bảo hiểm xã hội Việt Nam thông tin về mức đóng...   \n",
              "1  Quảng Trị - Ở địa điểm xây dựng khu đô thị thư...   \n",
              "2  Lào Cai – Hàng trăm hộ dân vẫn phải dùng nước ...   \n",
              "3  Bạn đọc Hà My hỏi: Tôi có làm giám định sức kh...   \n",
              "4  Âm thầm tăng giá bán nhưng lại giảm phụ kiện đ...   \n",
              "\n",
              "                                            Contents  \\\n",
              "0  Bạn đọc hỏi: Tôi mới đi làm và tham gia Bảo hi...   \n",
              "1  Sau khi đấu giá trúng khu đất rộng 132.415,6 m...   \n",
              "2  Phản ánh đến PV, người dân xã Cam Đường, TP.Là...   \n",
              "3  Về vấn đề trên, Bảo hiểm xã hội Việt Nam trả l...   \n",
              "4  Nếu là iFan, hẳn các bạn còn nhớ, ngày 11.9.20...   \n",
              "\n",
              "                                 Date   Author(s) Category  \\\n",
              "0    Thứ tư, 22/09/2021 10:00 (GMT+7)     ANH THƯ  Bạn đọc   \n",
              "1    Thứ tư, 09/03/2022 18:13 (GMT+7)    HƯNG THƠ  Bạn đọc   \n",
              "2    Thứ tư, 11/05/2022 16:57 (GMT+7)     Văn Đức  Bạn đọc   \n",
              "3  Chủ nhật, 20/06/2021 20:16 (GMT+7)  Minh Hương  Bạn đọc   \n",
              "4   Thứ năm, 15/10/2020 06:58 (GMT+7)    Đạt Phan  Bạn đọc   \n",
              "\n",
              "                                                Tags  \n",
              "0  ['Bảo hiểm xã hội', 'Bảo hiểm xã hội Việt Nam'...  \n",
              "1  ['Quảng Trị', 'Dự án Vingroup ở Quảng Trị', 'V...  \n",
              "2  ['Lào Cai', 'Nước sạch', 'nhà máy nước sạch', ...  \n",
              "3  ['Bảo hiểm xã hội', 'Luật Bảo hiểm xã hội', 'N...  \n",
              "4  ['Bảo vệ môi trường', 'Apple', 'Iphone', 'Appl...  "
            ],
            "text/html": [
              "\n",
              "  <div id=\"df-36d41a1f-400e-4604-95b5-2a8dae9561a4\" class=\"colab-df-container\">\n",
              "    <div>\n",
              "<style scoped>\n",
              "    .dataframe tbody tr th:only-of-type {\n",
              "        vertical-align: middle;\n",
              "    }\n",
              "\n",
              "    .dataframe tbody tr th {\n",
              "        vertical-align: top;\n",
              "    }\n",
              "\n",
              "    .dataframe thead th {\n",
              "        text-align: right;\n",
              "    }\n",
              "</style>\n",
              "<table border=\"1\" class=\"dataframe\">\n",
              "  <thead>\n",
              "    <tr style=\"text-align: right;\">\n",
              "      <th></th>\n",
              "      <th>URL</th>\n",
              "      <th>Title</th>\n",
              "      <th>Summary</th>\n",
              "      <th>Contents</th>\n",
              "      <th>Date</th>\n",
              "      <th>Author(s)</th>\n",
              "      <th>Category</th>\n",
              "      <th>Tags</th>\n",
              "    </tr>\n",
              "  </thead>\n",
              "  <tbody>\n",
              "    <tr>\n",
              "      <th>0</th>\n",
              "      <td>https://laodong.vn/ban-doc/cach-tham-gia-bao-h...</td>\n",
              "      <td>Cách tham gia Bảo hiểm xã hội tự nguyện sau kh...</td>\n",
              "      <td>Bảo hiểm xã hội Việt Nam thông tin về mức đóng...</td>\n",
              "      <td>Bạn đọc hỏi: Tôi mới đi làm và tham gia Bảo hi...</td>\n",
              "      <td>Thứ tư, 22/09/2021 10:00 (GMT+7)</td>\n",
              "      <td>ANH THƯ</td>\n",
              "      <td>Bạn đọc</td>\n",
              "      <td>['Bảo hiểm xã hội', 'Bảo hiểm xã hội Việt Nam'...</td>\n",
              "    </tr>\n",
              "    <tr>\n",
              "      <th>1</th>\n",
              "      <td>https://laodong.vn/ban-doc/quang-tri-cay-co-da...</td>\n",
              "      <td>Quảng Trị: Cây cọ dầu ở nơi có dự án của Vingr...</td>\n",
              "      <td>Quảng Trị - Ở địa điểm xây dựng khu đô thị thư...</td>\n",
              "      <td>Sau khi đấu giá trúng khu đất rộng 132.415,6 m...</td>\n",
              "      <td>Thứ tư, 09/03/2022 18:13 (GMT+7)</td>\n",
              "      <td>HƯNG THƠ</td>\n",
              "      <td>Bạn đọc</td>\n",
              "      <td>['Quảng Trị', 'Dự án Vingroup ở Quảng Trị', 'V...</td>\n",
              "    </tr>\n",
              "    <tr>\n",
              "      <th>2</th>\n",
              "      <td>https://laodong.vn/ban-doc/lao-cai-dan-khat-nu...</td>\n",
              "      <td>Lào Cai: Dân khát nước bên công trình nước sạc...</td>\n",
              "      <td>Lào Cai – Hàng trăm hộ dân vẫn phải dùng nước ...</td>\n",
              "      <td>Phản ánh đến PV, người dân xã Cam Đường, TP.Là...</td>\n",
              "      <td>Thứ tư, 11/05/2022 16:57 (GMT+7)</td>\n",
              "      <td>Văn Đức</td>\n",
              "      <td>Bạn đọc</td>\n",
              "      <td>['Lào Cai', 'Nước sạch', 'nhà máy nước sạch', ...</td>\n",
              "    </tr>\n",
              "    <tr>\n",
              "      <th>3</th>\n",
              "      <td>https://laodong.vn/ban-doc/quy-dinh-ve-viec-la...</td>\n",
              "      <td>Quy định về việc làm giám định sức khoẻ để ngh...</td>\n",
              "      <td>Bạn đọc Hà My hỏi: Tôi có làm giám định sức kh...</td>\n",
              "      <td>Về vấn đề trên, Bảo hiểm xã hội Việt Nam trả l...</td>\n",
              "      <td>Chủ nhật, 20/06/2021 20:16 (GMT+7)</td>\n",
              "      <td>Minh Hương</td>\n",
              "      <td>Bạn đọc</td>\n",
              "      <td>['Bảo hiểm xã hội', 'Luật Bảo hiểm xã hội', 'N...</td>\n",
              "    </tr>\n",
              "    <tr>\n",
              "      <th>4</th>\n",
              "      <td>https://laodong.vn/ban-doc/iphone-12-va-dang-c...</td>\n",
              "      <td>iPhone 12 và đẳng cấp “móc túi” người dùng của...</td>\n",
              "      <td>Âm thầm tăng giá bán nhưng lại giảm phụ kiện đ...</td>\n",
              "      <td>Nếu là iFan, hẳn các bạn còn nhớ, ngày 11.9.20...</td>\n",
              "      <td>Thứ năm, 15/10/2020 06:58 (GMT+7)</td>\n",
              "      <td>Đạt Phan</td>\n",
              "      <td>Bạn đọc</td>\n",
              "      <td>['Bảo vệ môi trường', 'Apple', 'Iphone', 'Appl...</td>\n",
              "    </tr>\n",
              "  </tbody>\n",
              "</table>\n",
              "</div>\n",
              "    <div class=\"colab-df-buttons\">\n",
              "\n",
              "  <div class=\"colab-df-container\">\n",
              "    <button class=\"colab-df-convert\" onclick=\"convertToInteractive('df-36d41a1f-400e-4604-95b5-2a8dae9561a4')\"\n",
              "            title=\"Convert this dataframe to an interactive table.\"\n",
              "            style=\"display:none;\">\n",
              "\n",
              "  <svg xmlns=\"http://www.w3.org/2000/svg\" height=\"24px\" viewBox=\"0 -960 960 960\">\n",
              "    <path d=\"M120-120v-720h720v720H120Zm60-500h600v-160H180v160Zm220 220h160v-160H400v160Zm0 220h160v-160H400v160ZM180-400h160v-160H180v160Zm440 0h160v-160H620v160ZM180-180h160v-160H180v160Zm440 0h160v-160H620v160Z\"/>\n",
              "  </svg>\n",
              "    </button>\n",
              "\n",
              "  <style>\n",
              "    .colab-df-container {\n",
              "      display:flex;\n",
              "      gap: 12px;\n",
              "    }\n",
              "\n",
              "    .colab-df-convert {\n",
              "      background-color: #E8F0FE;\n",
              "      border: none;\n",
              "      border-radius: 50%;\n",
              "      cursor: pointer;\n",
              "      display: none;\n",
              "      fill: #1967D2;\n",
              "      height: 32px;\n",
              "      padding: 0 0 0 0;\n",
              "      width: 32px;\n",
              "    }\n",
              "\n",
              "    .colab-df-convert:hover {\n",
              "      background-color: #E2EBFA;\n",
              "      box-shadow: 0px 1px 2px rgba(60, 64, 67, 0.3), 0px 1px 3px 1px rgba(60, 64, 67, 0.15);\n",
              "      fill: #174EA6;\n",
              "    }\n",
              "\n",
              "    .colab-df-buttons div {\n",
              "      margin-bottom: 4px;\n",
              "    }\n",
              "\n",
              "    [theme=dark] .colab-df-convert {\n",
              "      background-color: #3B4455;\n",
              "      fill: #D2E3FC;\n",
              "    }\n",
              "\n",
              "    [theme=dark] .colab-df-convert:hover {\n",
              "      background-color: #434B5C;\n",
              "      box-shadow: 0px 1px 3px 1px rgba(0, 0, 0, 0.15);\n",
              "      filter: drop-shadow(0px 1px 2px rgba(0, 0, 0, 0.3));\n",
              "      fill: #FFFFFF;\n",
              "    }\n",
              "  </style>\n",
              "\n",
              "    <script>\n",
              "      const buttonEl =\n",
              "        document.querySelector('#df-36d41a1f-400e-4604-95b5-2a8dae9561a4 button.colab-df-convert');\n",
              "      buttonEl.style.display =\n",
              "        google.colab.kernel.accessAllowed ? 'block' : 'none';\n",
              "\n",
              "      async function convertToInteractive(key) {\n",
              "        const element = document.querySelector('#df-36d41a1f-400e-4604-95b5-2a8dae9561a4');\n",
              "        const dataTable =\n",
              "          await google.colab.kernel.invokeFunction('convertToInteractive',\n",
              "                                                    [key], {});\n",
              "        if (!dataTable) return;\n",
              "\n",
              "        const docLinkHtml = 'Like what you see? Visit the ' +\n",
              "          '<a target=\"_blank\" href=https://colab.research.google.com/notebooks/data_table.ipynb>data table notebook</a>'\n",
              "          + ' to learn more about interactive tables.';\n",
              "        element.innerHTML = '';\n",
              "        dataTable['output_type'] = 'display_data';\n",
              "        await google.colab.output.renderOutput(dataTable, element);\n",
              "        const docLink = document.createElement('div');\n",
              "        docLink.innerHTML = docLinkHtml;\n",
              "        element.appendChild(docLink);\n",
              "      }\n",
              "    </script>\n",
              "  </div>\n",
              "\n",
              "\n",
              "<div id=\"df-301b801c-2563-470c-9bde-c16ad3a60650\">\n",
              "  <button class=\"colab-df-quickchart\" onclick=\"quickchart('df-301b801c-2563-470c-9bde-c16ad3a60650')\"\n",
              "            title=\"Suggest charts\"\n",
              "            style=\"display:none;\">\n",
              "\n",
              "<svg xmlns=\"http://www.w3.org/2000/svg\" height=\"24px\"viewBox=\"0 0 24 24\"\n",
              "     width=\"24px\">\n",
              "    <g>\n",
              "        <path d=\"M19 3H5c-1.1 0-2 .9-2 2v14c0 1.1.9 2 2 2h14c1.1 0 2-.9 2-2V5c0-1.1-.9-2-2-2zM9 17H7v-7h2v7zm4 0h-2V7h2v10zm4 0h-2v-4h2v4z\"/>\n",
              "    </g>\n",
              "</svg>\n",
              "  </button>\n",
              "\n",
              "<style>\n",
              "  .colab-df-quickchart {\n",
              "      --bg-color: #E8F0FE;\n",
              "      --fill-color: #1967D2;\n",
              "      --hover-bg-color: #E2EBFA;\n",
              "      --hover-fill-color: #174EA6;\n",
              "      --disabled-fill-color: #AAA;\n",
              "      --disabled-bg-color: #DDD;\n",
              "  }\n",
              "\n",
              "  [theme=dark] .colab-df-quickchart {\n",
              "      --bg-color: #3B4455;\n",
              "      --fill-color: #D2E3FC;\n",
              "      --hover-bg-color: #434B5C;\n",
              "      --hover-fill-color: #FFFFFF;\n",
              "      --disabled-bg-color: #3B4455;\n",
              "      --disabled-fill-color: #666;\n",
              "  }\n",
              "\n",
              "  .colab-df-quickchart {\n",
              "    background-color: var(--bg-color);\n",
              "    border: none;\n",
              "    border-radius: 50%;\n",
              "    cursor: pointer;\n",
              "    display: none;\n",
              "    fill: var(--fill-color);\n",
              "    height: 32px;\n",
              "    padding: 0;\n",
              "    width: 32px;\n",
              "  }\n",
              "\n",
              "  .colab-df-quickchart:hover {\n",
              "    background-color: var(--hover-bg-color);\n",
              "    box-shadow: 0 1px 2px rgba(60, 64, 67, 0.3), 0 1px 3px 1px rgba(60, 64, 67, 0.15);\n",
              "    fill: var(--button-hover-fill-color);\n",
              "  }\n",
              "\n",
              "  .colab-df-quickchart-complete:disabled,\n",
              "  .colab-df-quickchart-complete:disabled:hover {\n",
              "    background-color: var(--disabled-bg-color);\n",
              "    fill: var(--disabled-fill-color);\n",
              "    box-shadow: none;\n",
              "  }\n",
              "\n",
              "  .colab-df-spinner {\n",
              "    border: 2px solid var(--fill-color);\n",
              "    border-color: transparent;\n",
              "    border-bottom-color: var(--fill-color);\n",
              "    animation:\n",
              "      spin 1s steps(1) infinite;\n",
              "  }\n",
              "\n",
              "  @keyframes spin {\n",
              "    0% {\n",
              "      border-color: transparent;\n",
              "      border-bottom-color: var(--fill-color);\n",
              "      border-left-color: var(--fill-color);\n",
              "    }\n",
              "    20% {\n",
              "      border-color: transparent;\n",
              "      border-left-color: var(--fill-color);\n",
              "      border-top-color: var(--fill-color);\n",
              "    }\n",
              "    30% {\n",
              "      border-color: transparent;\n",
              "      border-left-color: var(--fill-color);\n",
              "      border-top-color: var(--fill-color);\n",
              "      border-right-color: var(--fill-color);\n",
              "    }\n",
              "    40% {\n",
              "      border-color: transparent;\n",
              "      border-right-color: var(--fill-color);\n",
              "      border-top-color: var(--fill-color);\n",
              "    }\n",
              "    60% {\n",
              "      border-color: transparent;\n",
              "      border-right-color: var(--fill-color);\n",
              "    }\n",
              "    80% {\n",
              "      border-color: transparent;\n",
              "      border-right-color: var(--fill-color);\n",
              "      border-bottom-color: var(--fill-color);\n",
              "    }\n",
              "    90% {\n",
              "      border-color: transparent;\n",
              "      border-bottom-color: var(--fill-color);\n",
              "    }\n",
              "  }\n",
              "</style>\n",
              "\n",
              "  <script>\n",
              "    async function quickchart(key) {\n",
              "      const quickchartButtonEl =\n",
              "        document.querySelector('#' + key + ' button');\n",
              "      quickchartButtonEl.disabled = true;  // To prevent multiple clicks.\n",
              "      quickchartButtonEl.classList.add('colab-df-spinner');\n",
              "      try {\n",
              "        const charts = await google.colab.kernel.invokeFunction(\n",
              "            'suggestCharts', [key], {});\n",
              "      } catch (error) {\n",
              "        console.error('Error during call to suggestCharts:', error);\n",
              "      }\n",
              "      quickchartButtonEl.classList.remove('colab-df-spinner');\n",
              "      quickchartButtonEl.classList.add('colab-df-quickchart-complete');\n",
              "    }\n",
              "    (() => {\n",
              "      let quickchartButtonEl =\n",
              "        document.querySelector('#df-301b801c-2563-470c-9bde-c16ad3a60650 button');\n",
              "      quickchartButtonEl.style.display =\n",
              "        google.colab.kernel.accessAllowed ? 'block' : 'none';\n",
              "    })();\n",
              "  </script>\n",
              "</div>\n",
              "    </div>\n",
              "  </div>\n"
            ],
            "application/vnd.google.colaboratory.intrinsic+json": {
              "type": "dataframe",
              "variable_name": "data",
              "summary": "{\n  \"name\": \"data\",\n  \"rows\": 39000,\n  \"fields\": [\n    {\n      \"column\": \"URL\",\n      \"properties\": {\n        \"dtype\": \"category\",\n        \"num_unique_values\": 18312,\n        \"samples\": [\n          \"https://laodong.vn/xe/nhung-kinh-nghiem-nam-long-neu-muon-mua-xe-hoi-gia-re-790766.ldo\",\n          \"https://laodong.vn/doi-song-xa-hoi/co-gai-tat-nguyen-ve-uoc-mo-bang-doi-chan-576406.ldo\",\n          \"https://laodong.vn/cd-y-te/nguoi-lao-dong-nganh-y-duoc-mua-cac-san-pham-giam-gia-len-toi-40-923494.ldo\"\n        ],\n        \"semantic_type\": \"\",\n        \"description\": \"\"\n      }\n    },\n    {\n      \"column\": \"Title\",\n      \"properties\": {\n        \"dtype\": \"category\",\n        \"num_unique_values\": 18225,\n        \"samples\": [\n          \"\\u0110\\u00e0 N\\u1eb5ng: X\\u00e9t nghi\\u1ec7m COVID cho c\\u00f4ng nh\\u00e2n \\u0111\\u1ec3 \\u0111\\u1ea3m b\\u1ea3o an to\\u00e0n s\\u1ea3n xu\\u1ea5t \\u0111\\u1ea7u n\\u0103m\",\n          \"B\\u1eaft \\u0111\\u1ed1i t\\u01b0\\u1ee3ng ph\\u00f3ng h\\u1ecfa nh\\u00e0 tr\\u1ecd khi\\u1ebfn 2 m\\u1eb9 con b\\u1ecb b\\u1ecfng n\\u1eb7ng\",\n          \"Nh\\u1eefng c\\u01a1 quan c\\u00f3 th\\u1ea9m quy\\u1ec1n gi\\u1ea3i quy\\u1ebft khi ng\\u01b0\\u1eddi d\\u00e2n m\\u1ea5t s\\u1ed5 \\u0111\\u1ecf\"\n        ],\n        \"semantic_type\": \"\",\n        \"description\": \"\"\n      }\n    },\n    {\n      \"column\": \"Summary\",\n      \"properties\": {\n        \"dtype\": \"category\",\n        \"num_unique_values\": 18125,\n        \"samples\": [\n          \"Li\\u00ean \\u0111o\\u00e0n Lao \\u0111\\u1ed9ng t\\u1ec9nh Th\\u00e1i B\\u00ecnh\\u00a0v\\u1eeba t\\u1ed5 ch\\u1ee9c h\\u1ed9i ngh\\u1ecb tri\\u1ec3n khai Th\\u00f4ng b\\u00e1o K\\u1ebft lu\\u1eadn v\\u1ec1 t\\u00ecnh h\\u00ecnh, k\\u1ebft qu\\u1ea3 ho\\u1ea1t \\u0111\\u1ed9ng c\\u1ee7a t\\u1ed5 ch\\u1ee9c c\\u00f4ng \\u0111o\\u00e0n th\\u1eddi gian qua \\u0111\\u1ed3ng th\\u1eddi tri\\u1ec3n khai ph\\u01b0\\u01a1ng h\\u01b0\\u1edbng, nhi\\u1ec7m v\\u1ee5 trong b\\u1ed1i c\\u1ea3nh t\\u00ecnh h\\u00ecnh m\\u1edbi cho c\\u00e1n b\\u1ed9 c\\u00f4ng \\u0111o\\u00e0n chuy\\u00ean tr\\u00e1ch trong t\\u1ec9nh.\",\n          \"C\\u0103n c\\u1ee9 theo\\u00a0Ngh\\u1ecb quy\\u1ebft s\\u1ed1 128/NQ-CP ng\\u00e0y 11.10.2021 c\\u1ee7a Th\\u1ee7 t\\u01b0\\u1edbng Ch\\u00ednh ph\\u1ee7 quy \\u0111\\u1ecbnh t\\u1ea1m th\\u1eddi \\u201cTh\\u00edch \\u1ee9ng an to\\u00e0n, linh ho\\u1ea1t, ki\\u1ec3m so\\u00e1t hi\\u1ec7u qu\\u1ea3 d\\u1ecbch COVID-19\\u201d, t\\u1ec9nh \\u0110\\u1ed3ng Nai x\\u1ebfp c\\u1ea5p \\u0111\\u1ed9 1 - b\\u00ecnh th\\u01b0\\u1eddng m\\u1edbi. Tuy nhi\\u00ean, \\u00f4ng Nguy\\u1ec5n H\\u1ed3ng L\\u0129nh, B\\u00ed th\\u01b0 t\\u1ec9nh u\\u1ef7 \\u0110\\u1ed3ng Nai cho r\\u1eb1ng, \\u0110\\u1ed3ng Nai v\\u1eabn ch\\u01b0a th\\u1ef1c s\\u1ef1 an to\\u00e0n, ng\\u01b0\\u1eddi d\\u00e2n c\\u1ea7n th\\u1ef1c hi\\u1ec7n nghi\\u00eam nguy\\u00ean t\\u1eafc 5K.\",\n          \"V\\u1edbi s\\u1ef1 th\\u1ec3 hi\\u1ec7n xu\\u1ea5t s\\u1eafc, \\u0111\\u1ea1i di\\u1ec7n Vi\\u1ec7t Nam, Hoa h\\u1eadu H'Hen Ni\\u00ea \\u0111\\u00e3 ch\\u00ednh th\\u1ee9c \\u0111\\u01b0\\u1ee3c x\\u01b0\\u1edbng t\\u00ean cho top 5 Miss Universe 2018. \\u0110\\u00e2y l\\u00e0 th\\u00e0nh t\\u00edch cao nh\\u1ea5t c\\u1ee7a ng\\u01b0\\u1eddi \\u0111\\u1eb9p Vi\\u1ec7t t\\u1ea1i \\u0111\\u1ea5u tr\\u01b0\\u1eddng nhan s\\u1eafc n\\u00e0y t\\u00ednh t\\u1edbi th\\u1eddi \\u0111i\\u1ec3m hi\\u1ec7n t\\u1ea1i.\"\n        ],\n        \"semantic_type\": \"\",\n        \"description\": \"\"\n      }\n    },\n    {\n      \"column\": \"Contents\",\n      \"properties\": {\n        \"dtype\": \"category\",\n        \"num_unique_values\": 17655,\n        \"samples\": [\n          \"Kia Cerato Facelift Trong ph\\u00e2n kh\\u00fac sedan h\\u1ea1ng C t\\u1ea1i th\\u1ecb tr\\u01b0\\u1eddng \\u00f4t\\u00f4 Vi\\u1ec7t Nam, sau nhi\\u1ec1u n\\u0103m d\\u01b0\\u1edbi b\\u00f3ng Toyota Corolla Altis, Mazda 3... th\\u1eddi gian g\\u1ea7n \\u0111\\u00e2y, Cerato li\\u00ean ti\\u1ebfp b\\u01b0\\u1edbc l\\u00ean \\\"ngai v\\u00e0ng\\\" doanh s\\u1ed1 trong ph\\u00e2n kh\\u00fac sedan h\\u1ea1ng C.  M\\u1edbi \\u0111\\u00e2y nh\\u1ea5t, h\\u00e3ng xe H\\u00e0n Qu\\u1ed1c \\u0111\\u00e3 tung ra b\\u1ea3n n\\u00e2ng c\\u1ea5p c\\u1ee7a Kia Cerato v\\u00e0 \\u0111\\u00e3 ch\\u00ednh th\\u1ee9c tr\\u00ecnh l\\u00e0ng t\\u1ea1i qu\\u00ea nh\\u00e0. \\u1ede b\\u1ea3n facelift, Kia Cerato 2022 s\\u1edf h\\u1eefu ngo\\u1ea1i h\\u00ecnh thu h\\u00fat h\\u01a1n v\\u1edbi m\\u1ed9t s\\u1ed1 c\\u1ea3i ti\\u1ebfn.  C\\u00e1c th\\u00f4ng s\\u1ed1 k\\u00edch th\\u01b0\\u1edbc v\\u00e0 n\\u1ed9i th\\u1ea5t kh\\u00f4ng c\\u00f3 nhi\\u1ec1u kh\\u00e1c bi\\u1ec7t so v\\u1edbi \\u0111\\u1eddi xe tr\\u01b0\\u1edbc. N\\u00e2ng c\\u1ea5p \\u0111\\u00e1ng ch\\u00fa \\u00fd n\\u1eb1m \\u1edf danh s\\u00e1ch trang b\\u1ecb ti\\u1ec7n nghi. Nh\\u1eefng t\\u00ednh n\\u0103ng m\\u1edbi \\u0111\\u00e1ng ch\\u00fa \\u00fd g\\u1ed3m b\\u1ea3ng \\u0111\\u1ed3ng h\\u1ed3 k\\u1ef9 thu\\u1eadt s\\u1ed1, phanh tay \\u0111i\\u1ec7n t\\u1eed, kh\\u1edfi \\u0111\\u1ed9ng t\\u1eeb xa, h\\u1ec7 th\\u1ed1ng an to\\u00e0n th\\u00f4ng minh\\u2026 Theo c\\u00f4ng b\\u1ed1, Kia Cerato 2022 s\\u1eed d\\u1ee5ng \\u0111\\u1ed9ng c\\u01a1 Smartstream G, dung t\\u00edch 1.6L, MPI 4 xy-lanh cho ra c\\u00f4ng su\\u1ea5t t\\u1ed1i \\u0111a 121 m\\u00e3 l\\u1ef1c t\\u1ea1i 6.300 v\\u00f2ng/ph\\u00fat v\\u00e0 m\\u00f4-men xo\\u1eafn c\\u1ef1c \\u0111\\u1ea1i 154 Nm t\\u1ea1i 4.500 v\\u00f2ng/ph\\u00fat. \\u0110\\u1ed9ng c\\u01a1 tr\\u00ean s\\u1ebd k\\u1ebft h\\u1ee3p v\\u1edbi h\\u1ed9p s\\u1ed1 t\\u1ef1 \\u0111\\u1ed9ng 6 c\\u1ea5p v\\u00e0 h\\u1ec7 d\\u1eabn \\u0111\\u1ed9ng c\\u1ea7u tr\\u01b0\\u1edbc. Hi\\u1ec7n t\\u1ea1i, Kia Cerato \\u0111ang b\\u00e1n t\\u1ea1i Vi\\u1ec7t Nam l\\u00e0 phi\\u00ean b\\u1ea3n tr\\u01b0\\u1edbc facelift \\u0111i k\\u00e8m m\\u1ee9c gi\\u00e1 544-685 tri\\u1ec7u \\u0111\\u1ed3ng. M\\u1eabu xe h\\u1ea1ng C \\u0111ang \\u0111\\u01b0\\u1ee3c c\\u00e1c \\u0111\\u1ea1i l\\u00fd Kia gi\\u1ea3m gi\\u00e1 45-65 tri\\u1ec7u \\u0111\\u1ed3ng \\u0111\\u1ec3 d\\u1ecdn \\u0111\\u01b0\\u1eddng cho b\\u1ea3n n\\u00e2ng c\\u1ea5p. Theo m\\u1ed9t ngu\\u1ed3n tin t\\u1eeb Kia, Cerato facelift c\\u00f3 th\\u1ec3 \\u0111\\u01b0\\u1ee3c ra m\\u1eaft t\\u1ea1i Vi\\u1ec7t Nam trong qu\\u00fd III v\\u00e0 c\\u00f3 gi\\u00e1 t\\u0103ng \\u0111\\u00f4i ch\\u00fat so v\\u1edbi \\u0111\\u1eddi hi\\u1ec7n h\\u00e0nh. Hyundai Elantra Hyundai Elantra 2021 \\u0111\\u00e3 ra m\\u1eaft online t\\u1eeb th\\u00e1ng 3.2020. Tuy nhi\\u00ean, trong b\\u1ed1i c\\u1ea3nh COVID-19 \\u0111ang di\\u1ec5n ra ph\\u1ee9c t\\u1ea1p, m\\u1eabu xe n\\u00e0y m\\u1edbi ch\\u00ednh th\\u1ee9c \\u0111\\u01b0\\u1ee3c ph\\u00e2n ph\\u1ed1i t\\u1ea1i H\\u00e0n Qu\\u1ed1c t\\u1eeb ng\\u00e0y 7.4. Tuy nhi\\u00ean, \\u0111i\\u1ec1u n\\u00e0y kh\\u00f4ng ng\\u0103n c\\u1ea3n m\\u1eabu xe H\\u00e0n l\\u00e0m n\\u00ean k\\u1ef7 l\\u1ee5c doanh s\\u1ed1. Ch\\u1ec9 ri\\u00eang trong ng\\u00e0y \\u0111\\u1ea7u ti\\u00ean ra m\\u1eaft \\u1edf qu\\u00ea nh\\u00e0, Hyundai \\u0111\\u00e3 nh\\u1eadn 10.058 \\u0111\\u01a1n \\u0111\\u1eb7t h\\u00e0ng. Khoang l\\u00e1i g\\u00e2y \\u1ea5n t\\u01b0\\u1ee3ng nh\\u1edd phong c\\u00e1ch th\\u1ec3 thao v\\u00e0 b\\u1ea3ng tablo h\\u01b0\\u1edbng v\\u1ec1 ng\\u01b0\\u1eddi l\\u00e1i. Tuy nhi\\u00ean, c\\u00e1ch b\\u1ed1 tr\\u00ed b\\u1ea3ng \\u0111\\u1ed3ng h\\u1ed3 t\\u1ed1c \\u0111\\u1ed9 v\\u00e0 m\\u00e0n h\\u00ecnh gi\\u1ea3i tr\\u00ed c\\u00f2n thi\\u1ebfu li\\u1ec1n l\\u1ea1c. \\u1ede \\u0111\\u1eddi xe m\\u1edbi, Hyundai Elantra c\\u00f3 c\\u00f4ng ngh\\u1ec7 SmartSense g\\u1ed3m c\\u00e1c t\\u00ednh n\\u0103ng h\\u1ed7 tr\\u1ee3 l\\u00e1i th\\u00f4ng minh nh\\u01b0 h\\u1ed7 tr\\u1ee3 gi\\u1eef l\\u00e0n, ki\\u1ec3m so\\u00e1t h\\u00e0nh tr\\u00ecnh th\\u00edch \\u1ee9ng, h\\u1ed7 tr\\u1ee3 gi\\u1ea3m thi\\u1ec3u va ch\\u1ea1m\\u2026 Hyundai Elantra 2021 \\u0111\\u01b0\\u1ee3c trang b\\u1ecb kh\\u1ed1i \\u0111\\u1ed9ng c\\u01a1 Smartstream G 1.6 MPI, cho c\\u00f4ng su\\u1ea5t 121 m\\u00e3 l\\u1ef1c t\\u1ea1i v\\u00f2ng tua 6.300 v\\u00f2ng/ ph\\u00fat v\\u00e0 m\\u00f4 men xo\\u1eafn c\\u1ef1c \\u0111\\u1ea1i 154 Nm t\\u1ea1i v\\u00f2ng tua 4.500 v\\u00f2ng/ ph\\u00fat. \\u0110\\u01b0\\u1ee3c bi\\u1ebft, kh\\u1ed1i \\u0111\\u1ed9ng c\\u01a1 n\\u00e0y c\\u00f3 th\\u1ec3 gi\\u00fap chi\\u1ebfc Elantra t\\u0103ng t\\u1ed1c t\\u1eeb 0-100 km/h trong 10,4 gi\\u00e2y tr\\u01b0\\u1edbc khi \\u0111\\u1eb7t t\\u1ed1c \\u0111\\u1ed9 t\\u1ed1i \\u0111a l\\u00e0 196 km/h. T\\u1ea1i th\\u1ecb tr\\u01b0\\u1eddng Malaysia, ngo\\u00e0i c\\u00e1c m\\u00e0u c\\u01a1 b\\u1ea3n Hyundai Elantra \\u0111\\u01b0\\u1ee3c gi\\u1edbi thi\\u1ec7u th\\u00eam m\\u00e0u \\u0111en v\\u00e0 x\\u00e1m xi m\\u0103ng. Vi\\u1ec7c ra m\\u1eaft d\\u00f2ng xe Elantra phi\\u00ean b\\u1ea3n n\\u00e2ng c\\u1ea5p t\\u1ea1i khu v\\u1ef1c \\u0110\\u00f4ng Nam \\u00c1 \\u0111\\u00e3 l\\u00e0m cho nhi\\u1ec1u kh\\u00e1ch h\\u00e0ng Vi\\u1ec7t ghen t\\u1ef5 v\\u00e0 c\\u0169ng r\\u1ea5t mong ch\\u1edd d\\u00f2ng xe n\\u00e0y s\\u1ebd tr\\u00ecnh l\\u00e0ng trong nh\\u1eefng th\\u00e1ng t\\u1edbi. Honda Civic Th\\u1ebf h\\u1ec7 11 ho\\u00e0n to\\u00e0n m\\u1edbi c\\u1ee7a Honda Civic 2022 \\u0111\\u00e3 tr\\u00ecnh l\\u00e0ng th\\u1ecb tr\\u01b0\\u1eddng B\\u1eafc M\\u1ef9 h\\u1ed3i cu\\u1ed1i th\\u00e1ng 4.2021. Nh\\u1eefng l\\u00f4 xe \\u0111\\u1ea7u ti\\u00ean c\\u1ee7a Honda Civic 2022 hi\\u1ec7n \\u0111\\u00e3 xu\\u1ea5t x\\u01b0\\u1edfng t\\u1ea1i M\\u1ef9 v\\u00e0 s\\u1eb5n s\\u00e0ng \\u201cl\\u00ean k\\u1ec7\\u201d t\\u1ea1i c\\u00e1c \\u0111\\u1ea1i l\\u00fd trong th\\u1eddi gian t\\u1edbi. Ti\\u1ebfp sau th\\u1ecb tr\\u01b0\\u1eddng B\\u1eafc M\\u1ef9, Honda Civic 2022 c\\u00f3 k\\u1ebf ho\\u1ea1ch gi\\u1edbi thi\\u1ec7u t\\u1ea1i m\\u1ed9t s\\u1ed1 th\\u1ecb tr\\u01b0\\u1eddng kh\\u00e1c, trong \\u0111\\u00f3 c\\u00f3 khu v\\u1ef1c \\u0110\\u00f4ng Nam \\u00c1 g\\u1ed3m Th\\u00e1i Lan v\\u00e0 Vi\\u1ec7t Nam... Theo \\u0111\\u00f3, Honda Civic 2022 s\\u1ebd tr\\u00ecnh l\\u00e0ng t\\u1ea1i Th\\u00e1i Lan v\\u00e0 ngay sau \\u0111\\u00f3 l\\u00e0 th\\u1ecb tr\\u01b0\\u1eddng Vi\\u1ec7t Nam, d\\u1ef1 ki\\u1ebfn v\\u00e0o cu\\u1ed1i n\\u0103m nay. B\\u00ean c\\u1ea1nh thi\\u1ebft k\\u1ebf m\\u1edbi theo phong c\\u00e1ch tr\\u01b0\\u1edfng th\\u00e0nh h\\u01a1n, v\\u1edbi \\u0111\\u00e8n pha LED \\u0111\\u01b0\\u1ee3c m\\u1edf r\\u1ed9ng, c\\u00e1c khe h\\u00fat gi\\u00f3 \\u0111\\u01b0\\u1ee3c l\\u00e0m n\\u1ed5i b\\u1eadt, h\\u1ed1c \\u0111\\u00e8n s\\u01b0\\u01a1ng m\\u00f9 c\\u00f3 \\u1ed1p trang tr\\u00ed, th\\u00ec n\\u1ed9i th\\u1ea5t Honda Civic 2022 c\\u0169ng c\\u00f3 nhi\\u1ec1u thay \\u0111\\u1ed5i, t\\u1eadp trung v\\u00e0o s\\u1ef1 tho\\u1ea3i m\\u00e1i v\\u00e0 ti\\u1ec7n d\\u1ee5ng v\\u1edbi b\\u1ea3ng \\u0111i\\u1ec1u khi\\u1ec3n trung t\\u00e2m thi\\u1ebft k\\u1ebf \\u0111a t\\u1ea7ng v\\u1edbi \\u0111i\\u1ec3m nh\\u1ea5n trang tr\\u00ed ki\\u1ec3u l\\u01b0\\u1edbi t\\u1ed5 ong m\\u1edbi b\\u1ea3n cao c\\u1ea5p, b\\u1ea3ng \\u0111i\\u1ec1u khi\\u1ec3n thi\\u1ebft k\\u1ebf ph\\u1eb3ng t\\u0103ng c\\u01b0\\u1eddng t\\u1ea7m quan s\\u00e1t. B\\u00ean c\\u1ea1nh \\u0111\\u1ed9ng c\\u01a1 t\\u0103ng \\u00e1p 1.5L, Honda Civic 2022 t\\u1ea1i th\\u1ecb tr\\u01b0\\u1eddng Th\\u00e1i Lan c\\u00f3 th\\u1ec3 \\u0111\\u01b0\\u1ee3c b\\u1ed5 sung c\\u1ea5u h\\u00ecnh hybrid e:HEV, \\u0111i c\\u00f9ng h\\u1ed9p s\\u1ed1 v\\u00f4 c\\u1ea5p CVT quen thu\\u1ed9c c\\u1ee7a Honda. Th\\u00f4ng s\\u1ed1 chi ti\\u1ebft c\\u1ee7a \\u0111\\u1eddi xe m\\u1edbi hi\\u1ec7n ch\\u01b0a \\u0111\\u01b0\\u1ee3c c\\u00f4ng b\\u1ed1, phi\\u00ean b\\u1ea3n \\u0111\\u1ed9ng c\\u01a1 1.8L nhi\\u1ec1u kh\\u1ea3 n\\u0103ng s\\u1ebd b\\u1ecb ng\\u1eebng s\\u1ea3n xu\\u1ea5t.\",\n          \"T\\u1ea1i c\\u00e1c bu\\u1ed5i l\\u00e0m vi\\u1ec7c, \\u0111\\u1ed3ng ch\\u00ed \\u0110\\u1ed7 Nga Vi\\u1ec7t \\u0111\\u00e3 ph\\u00e1t bi\\u1ec3u tri \\u00e2n nh\\u1eefng \\u0111\\u00f3ng g\\u00f3p, hy sinh cho t\\u1ed5 qu\\u1ed1c c\\u1ee7a c\\u00e1c th\\u1ebf h\\u1ec7 c\\u00e1c c\\u1ef1u TNXP; c\\u00e1n b\\u1ed9 chi\\u1ebfn s\\u0129 b\\u1ed9 \\u0111\\u1ed9i Tr\\u01b0\\u1eddng S\\u01a1n - \\u0111\\u01b0\\u1eddng H\\u1ed3 Ch\\u00ed Minh.  \\u0110\\u1ed3ng ch\\u00ed \\u0110\\u1ed7 Nga Vi\\u1ec7t cho bi\\u1ebft, th\\u1eddi gian t\\u1edbi, Qu\\u1ef9 XH- TT C\\u0110 GTVT VN s\\u1ebd ti\\u1ebfp t\\u1ee5c quan t\\u00e2m, h\\u1ed7 tr\\u1ee3 t\\u1ed1t h\\u01a1n n\\u1eefa \\u0111\\u1ed1i v\\u1edbi c\\u00e1c c\\u1ef1u TNXP, c\\u00e1n b\\u1ed9 chi\\u1ebfn s\\u0129 b\\u1ed9 \\u0111\\u1ed9i Tr\\u01b0\\u1eddng S\\u01a1n - \\u0111\\u01b0\\u1eddng H\\u1ed3 Ch\\u00ed Minh c\\u00f3 ho\\u00e0n c\\u1ea3nh \\u0111\\u1eb7c bi\\u1ec7t kh\\u00f3 kh\\u0103n, g\\u00f3p ph\\u1ea7n gi\\u00fap h\\u1ecd b\\u1edbt kh\\u00f3 kh\\u0103n trong cu\\u1ed9c s\\u1ed1ng.\\u00a0 Nh\\u00e2n d\\u1ecbp n\\u0103m m\\u1edbi 2019 v\\u00e0 chu\\u1ea9n b\\u1ecb \\u0111\\u00f3n T\\u1ebft K\\u1ef7 H\\u1ee3i 2019, \\u0111\\u1ed3ng ch\\u00ed \\u0110\\u1ed7 Nga Vi\\u1ec7t \\u0111\\u00e3 thay m\\u1eb7t Qu\\u1ef9 XH- TT C\\u0110 GTVT VN trao cho \\u0111\\u1ea1i di\\u1ec7n hai h\\u1ed9i 500 ph\\u1ea7n qu\\u00e0 \\u0111\\u1ec3 g\\u1eedi t\\u1edbi c\\u00e1c h\\u1ed9i vi\\u00ean c\\u00f3 ho\\u00e0n c\\u1ea3nh kh\\u00f3 kh\\u0103n, v\\u1edbi t\\u1ed5ng s\\u1ed1 ti\\u1ec1n l\\u00e0 250 tri\\u1ec7u \\u0111\\u1ed3ng.\\u00a0 Trong d\\u1ecbp T\\u1ebft c\\u1ed5 truy\\u1ec1n d\\u00e2n t\\u1ed9c n\\u0103m 2019, \\u0111\\u1ebfn nay, Qu\\u1ef9 XH- TT C\\u0110 GTVT VN \\u0111\\u00e3 h\\u1ed7 tr\\u1ee3 325 CNVCL\\u0110 c\\u00f3 ho\\u00e0n c\\u1ea3nh kh\\u00f3 kh\\u0103n; h\\u1ed7 tr\\u1ee3 M\\u00e1i \\u1ea5m c\\u00f4ng \\u0111o\\u00e0n; 49 t\\u1eadp th\\u1ec3 (39 t\\u1eadp th\\u1ec3 c\\u00e1c \\u0111\\u01a1n v\\u1ecb h\\u1ea3i \\u0111\\u0103ng, b\\u1ed9 \\u0111\\u1ed9i tr\\u00ean c\\u00e1c \\u0111i\\u1ec3m \\u0111\\u1ea3o c\\u00f3 h\\u1ea3i \\u0111\\u0103ng, 10 \\u0111\\u01a1n v\\u1ecb tr\\u1ef1c t\\u1ebft)\\u2026 v\\u1edbi t\\u1ed5ng s\\u1ed1 ti\\u1ec1n h\\u1ed7 tr\\u1ee3 l\\u00e0 1 t\\u1ec9 350 tri\\u1ec7u \\u0111\\u1ed3ng.  T\\u1eeb nay \\u0111\\u1ebfn T\\u1ebft Nguy\\u00ean \\u0111\\u00e1n K\\u1ef7 H\\u1ee3i 2019, C\\u0110 GTVT VN\\u00a0 ti\\u1ebfp t\\u1ee5c ph\\u1ed1i h\\u1ee3p v\\u1edbi B\\u1ed9 GTVT h\\u1ed7 tr\\u1ee3 CNVCL\\u0110 ng\\u00e0nh c\\u00f3 ho\\u00e0n c\\u1ea3nh \\u0111\\u1eb7c bi\\u1ec7t kh\\u00f3 kh\\u0103n.\",\n          \"S\\u1eefa chua H\\u1ea7u h\\u1ebft c\\u00e1c lo\\u1ea1i s\\u1eefa chua c\\u00f3 s\\u1eb5n trong c\\u1eeda h\\u00e0ng c\\u00f3 th\\u1ec3 ch\\u1ee9a nhi\\u1ec1u \\u0111\\u01b0\\u1eddng. S\\u1eefa chua c\\u00f3 nhi\\u1ec1u ch\\u1ea5t l\\u00e0m ng\\u1ecdt nh\\u00e2n t\\u1ea1o h\\u01a1n c\\u00f3 th\\u1ec3 l\\u00e0m t\\u0103ng l\\u01b0\\u1ee3ng \\u0111\\u01b0\\u1eddng trong m\\u00e1u nh\\u01b0ng \\u00edt mang l\\u1ea1i c\\u1ea3m gi\\u00e1c no.  N\\u01b0\\u1edbc \\u00e9p tr\\u00e1i c\\u00e2y N\\u01b0\\u1edbc \\u00e9p tr\\u00e1i c\\u00e2y t\\u1ed1t nh\\u01b0ng kh\\u00f4ng t\\u1ed1t b\\u1eb1ng vi\\u1ec7c \\u0103n tr\\u00e1i c\\u00e2y tr\\u1ef1c ti\\u1ebfp v\\u00ec n\\u01b0\\u1edbc \\u00e9p thi\\u1ebfu ch\\u1ea5t x\\u01a1. N\\u01b0\\u1edbc tr\\u00e1i c\\u00e2y c\\u00f3 th\\u1ec3 l\\u00e0m t\\u0103ng ho\\u1eb7c gi\\u1ea3m l\\u01b0\\u1ee3ng \\u0111\\u01b0\\u1eddng trong m\\u00e1u v\\u00e0 b\\u1ea1n s\\u1ebd nhanh ch\\u00f3ng c\\u00f3 c\\u1ea3m gi\\u00e1c \\u0111\\u00f3i tr\\u1edf l\\u1ea1i. Soda C\\u00e0ng u\\u1ed1ng nhi\\u1ec1u soda, b\\u1ea1n c\\u00e0ng t\\u0103ng th\\u00eam nhi\\u1ec1u calo. Kh\\u00ed CO2 t\\u1eeb soda khi u\\u1ed1ng s\\u1ebd \\u0111\\u01b0\\u1ee3c gi\\u1ea3i ph\\u00f3ng trong d\\u1ea1 d\\u00e0y khi\\u1ebfn c\\u00e1c t\\u1ebf b\\u00e0o \\u1edf \\u0111\\u1ea7u d\\u1ea1 d\\u00e0y ti\\u1ebft ra ghrelin, d\\u1eabn \\u0111\\u1ebfn c\\u1ea3m gi\\u00e1c \\u0111\\u00f3i. Th\\u00eam v\\u00e0o \\u0111\\u00f3, soda c\\u00f3 ch\\u1ee9a l\\u01b0\\u1ee3ng \\u0111\\u01b0\\u1eddng khi\\u1ebfn b\\u1ea1n c\\u00e0ng th\\u00e8m ng\\u1ecdt h\\u01a1n, \\u0111i\\u1ec1u n\\u00e0y ch\\u1eafc ch\\u1eafn kh\\u00f4ng t\\u1ed1t cho s\\u1ee9c kh\\u1ecfe. Ng\\u0169 c\\u1ed1c Nh\\u1eefng lo\\u1ea1i ng\\u0169 c\\u1ed1c c\\u00f3 ch\\u1ea5t l\\u00e0m ng\\u1ecdt nh\\u00e2n t\\u1ea1o c\\u00f3 th\\u1ec3 \\u1ea3nh h\\u01b0\\u1edfng \\u0111\\u1ebfn l\\u01b0\\u1ee3ng \\u0111\\u01b0\\u1eddng trong m\\u00e1u v\\u00e0 khi\\u1ebfn b\\u1ea1n \\u0111\\u00f3i h\\u01a1n. \\u0110i\\u1ec1u n\\u00e0y c\\u00f3 th\\u1ec3 l\\u00e0 do v\\u1ecb ng\\u1ecdt m\\u00e0 kh\\u00f4ng ch\\u1ee9a calo n\\u00ean c\\u01a1 th\\u1ec3 b\\u1ea1n s\\u1ebd th\\u00e8m calo v\\u00e0 g\\u00e2y \\u0111\\u00f3i. Khoai t\\u00e2y chi\\u00ean Chi\\u00ean khoai t\\u00e2y trong d\\u1ea7u v\\u00e0 mu\\u1ed1i khi\\u1ebfn b\\u1ea1n s\\u1ebd kh\\u00f4ng c\\u1ea3m th\\u1ea5y no h\\u01a1n n\\u1ebfu \\u0103n khoai t\\u00e2y chi\\u00ean. S\\u1ebd t\\u1ed1t h\\u01a1n n\\u1ebfu s\\u1eed d\\u1ee5ng c\\u00f9ng m\\u1ed9t c\\u1ee7 khoai t\\u00e2y \\u0111\\u1ec3 n\\u01b0\\u1edbng ho\\u1eb7c lu\\u1ed9c.  B\\u00e1nh m\\u00ec v\\u00e0 m\\u1ee9t  M\\u00f3n \\u0103n v\\u1eb7t \\u0111\\u01b0\\u1ee3c nhi\\u1ec1u ng\\u01b0\\u1eddi y\\u00eau th\\u00edch n\\u00e0y c\\u00f3 th\\u1ec3 khi\\u1ebfn c\\u01a1n \\u0111\\u00f3i  t\\u1ed3i t\\u1ec7 h\\u01a1n, v\\u00ec n\\u00f3 ch\\u1ee9a nhi\\u1ec1u carbohydrate v\\u00e0 ch\\u1ea5t b\\u00e9o c\\u00f3 th\\u1ec3 l\\u00e0m gi\\u1ea3m l\\u01b0\\u1ee3ng \\u0111\\u01b0\\u1eddng trong m\\u00e1u, g\\u00e2y ra c\\u1ea3m gi\\u00e1c \\u0111\\u00f3i. Sinh t\\u1ed1 Sinh t\\u1ed1 gi\\u00e0u h\\u00e0m l\\u01b0\\u1ee3ng \\u0111\\u01b0\\u1eddng c\\u00f3 th\\u1ec3 khi\\u1ebfn b\\u1ea1n c\\u1ea3m th\\u1ea5y tr\\u00e0n \\u0111\\u1ea7y n\\u0103ng l\\u01b0\\u1ee3ng v\\u00e0 no trong gi\\u00e2y l\\u00e1t. Tuy nhi\\u00ean, u\\u1ed1ng sinh t\\u1ed1 c\\u0169ng c\\u00f3 th\\u1ec3 l\\u00e0m gi\\u1ea3m l\\u01b0\\u1ee3ng \\u0111\\u01b0\\u1eddng trong m\\u00e1u sau m\\u1ed9t th\\u1eddi gian v\\u00e0 g\\u00e2y ra c\\u1ea3m gi\\u00e1c \\u0111\\u00f3i.\"\n        ],\n        \"semantic_type\": \"\",\n        \"description\": \"\"\n      }\n    },\n    {\n      \"column\": \"Date\",\n      \"properties\": {\n        \"dtype\": \"category\",\n        \"num_unique_values\": 18018,\n        \"samples\": [\n          \"Th\\u1ee9 t\\u01b0, 23/10/2019 12:50 (GMT+7)\",\n          \"Th\\u1ee9 hai, 10/09/2018 10:23 (GMT+7)\",\n          \"Th\\u1ee9 ba, 30/11/2021 21:56 (GMT+7)\"\n        ],\n        \"semantic_type\": \"\",\n        \"description\": \"\"\n      }\n    },\n    {\n      \"column\": \"Author(s)\",\n      \"properties\": {\n        \"dtype\": \"category\",\n        \"num_unique_values\": 3885,\n        \"samples\": [\n          \"Ngu\\u1ed3n d\\u1eef li\\u1ec7u \\u0111i\\u1ec3m thi do Vnexpress t\\u1ed5ng h\\u1ee3p\",\n          \"Th\\u00e0nh \\u0110\\u1ea1t\",\n          \"H.A (T/H)\"\n        ],\n        \"semantic_type\": \"\",\n        \"description\": \"\"\n      }\n    },\n    {\n      \"column\": \"Category\",\n      \"properties\": {\n        \"dtype\": \"category\",\n        \"num_unique_values\": 39,\n        \"samples\": [\n          \"T\\u1ea3n m\\u1ea1n - Chuy\\u1ec7n d\\u1ecdc \\u0111\\u01b0\\u1eddng\",\n          \"V\\u0103n h\\u00f3a - Gi\\u1ea3i tr\\u00ed\",\n          \"Di\\u1ec5n \\u0111\\u00e0n\"\n        ],\n        \"semantic_type\": \"\",\n        \"description\": \"\"\n      }\n    },\n    {\n      \"column\": \"Tags\",\n      \"properties\": {\n        \"dtype\": \"category\",\n        \"num_unique_values\": 15994,\n        \"samples\": [\n          \"['Ngh\\u1ec7 An', 'Tri \\u00e2n', 'Thanh ni\\u00ean', 'T\\u01b0\\u1edfng ni\\u1ec7m', '\\u0110\\u1ea1i l\\u1ec5 c\\u1ea7u si\\u00eau', 'C\\u1ed1ng Hi\\u1ec7p H\\u00f2a']\",\n          \"['T\\u1ee9 k\\u1ebft', 'Roger federer', 'Hyeon chung', 'Indian Wells']\",\n          \"['thu h\\u1ed3i', 'V\\u00f5 s\\u0129 Nguy\\u1ec5n Th\\u1ecb Thu Nhi', 'Cocky Buffalo', 'Thu Nhi', 'V\\u00f5 Th\\u1ecb Thu Nhi b\\u1ecb t\\u01b0\\u1edbc \\u0111ai v\\u00f4 \\u0111\\u1ecbch', '\\u0110ai v\\u00f4 \\u0111\\u1ecbch WBO']\"\n        ],\n        \"semantic_type\": \"\",\n        \"description\": \"\"\n      }\n    }\n  ]\n}"
            }
          },
          "metadata": {},
          "execution_count": 46
        }
      ]
    },
    {
      "cell_type": "code",
      "source": [
        "data.info()"
      ],
      "metadata": {
        "id": "O31eXe_-4acS",
        "colab": {
          "base_uri": "https://localhost:8080/"
        },
        "outputId": "138d19b8-45b3-411c-d400-0a46816ef3a4"
      },
      "execution_count": 47,
      "outputs": [
        {
          "output_type": "stream",
          "name": "stdout",
          "text": [
            "<class 'pandas.core.frame.DataFrame'>\n",
            "RangeIndex: 39000 entries, 0 to 38999\n",
            "Data columns (total 8 columns):\n",
            " #   Column     Non-Null Count  Dtype \n",
            "---  ------     --------------  ----- \n",
            " 0   URL        39000 non-null  object\n",
            " 1   Title      39000 non-null  object\n",
            " 2   Summary    38413 non-null  object\n",
            " 3   Contents   36961 non-null  object\n",
            " 4   Date       39000 non-null  object\n",
            " 5   Author(s)  38234 non-null  object\n",
            " 6   Category   39000 non-null  object\n",
            " 7   Tags       39000 non-null  object\n",
            "dtypes: object(8)\n",
            "memory usage: 2.4+ MB\n"
          ]
        }
      ]
    },
    {
      "cell_type": "code",
      "source": [
        "data.shape"
      ],
      "metadata": {
        "id": "AtpnxH6A4cxq",
        "colab": {
          "base_uri": "https://localhost:8080/"
        },
        "outputId": "2e4950d4-4fb1-414e-f0aa-647e397201e7"
      },
      "execution_count": 48,
      "outputs": [
        {
          "output_type": "execute_result",
          "data": {
            "text/plain": [
              "(39000, 8)"
            ]
          },
          "metadata": {},
          "execution_count": 48
        }
      ]
    },
    {
      "cell_type": "code",
      "source": [
        "num_categories = data['Category'].nunique()\n",
        "print(f'Số lượng thể loại có trong bộ dữ liệu: {num_categories}')"
      ],
      "metadata": {
        "colab": {
          "base_uri": "https://localhost:8080/"
        },
        "id": "9Mm81vApnqaX",
        "outputId": "a57aa738-dc4d-48f9-8da1-63e9141291e8"
      },
      "execution_count": 49,
      "outputs": [
        {
          "output_type": "stream",
          "name": "stdout",
          "text": [
            "Số lượng thể loại có trong bộ dữ liệu: 39\n"
          ]
        }
      ]
    },
    {
      "cell_type": "code",
      "source": [
        "# # Tải bộ stop word Tiếng Việt\n",
        "# !gdown 1NHM08W6U9xkf2ajuotD6QWQBBSvp5jj6"
      ],
      "metadata": {
        "id": "5x8oGri5vsxH"
      },
      "execution_count": 50,
      "outputs": []
    },
    {
      "cell_type": "code",
      "source": [
        "\n",
        "# Kiểm tra các giá trị trùng lặp và các dòng bị thiếu dữ liệu\n",
        "print('Giá trị trùng lặp:',data.duplicated().sum())\n",
        "print(\"\\nGiá trị bị thiếu:\")\n",
        "data.isnull().sum()"
      ],
      "metadata": {
        "id": "YPzmoj8vzuRi",
        "colab": {
          "base_uri": "https://localhost:8080/"
        },
        "outputId": "23aa3dba-70d3-4fae-e8f8-ccfa71957e6d"
      },
      "execution_count": 51,
      "outputs": [
        {
          "output_type": "stream",
          "name": "stdout",
          "text": [
            "Giá trị trùng lặp: 20687\n",
            "\n",
            "Giá trị bị thiếu:\n"
          ]
        },
        {
          "output_type": "execute_result",
          "data": {
            "text/plain": [
              "URL             0\n",
              "Title           0\n",
              "Summary       587\n",
              "Contents     2039\n",
              "Date            0\n",
              "Author(s)     766\n",
              "Category        0\n",
              "Tags            0\n",
              "dtype: int64"
            ]
          },
          "metadata": {},
          "execution_count": 51
        }
      ]
    },
    {
      "cell_type": "code",
      "source": [
        "\n",
        "# Xoá các dòng chứa giá trị trùng lặp và các dòng bị thiếu dữ liệu\n",
        "data.drop_duplicates(inplace = True)\n",
        "data.dropna(inplace = True)\n",
        "data.reset_index(drop = True, inplace = True)\n"
      ],
      "metadata": {
        "id": "i4dpqNHyv0Wu"
      },
      "execution_count": 52,
      "outputs": []
    },
    {
      "cell_type": "code",
      "source": [
        "print('\\nSố lượng bài viết của từng thể loại:')\n",
        "category_counts = data['Category'].value_counts()\n",
        "category_counts\n"
      ],
      "metadata": {
        "colab": {
          "base_uri": "https://localhost:8080/"
        },
        "id": "iIqDt0ckv2Mg",
        "outputId": "2146a195-3b15-41ae-903f-47f0ba4f9277"
      },
      "execution_count": 53,
      "outputs": [
        {
          "output_type": "stream",
          "name": "stdout",
          "text": [
            "\n",
            "Số lượng bài viết của từng thể loại:\n"
          ]
        },
        {
          "output_type": "execute_result",
          "data": {
            "text/plain": [
              "Pháp luật                     985\n",
              "Thế giới                      975\n",
              "Kinh doanh                    966\n",
              "Thể thao                      965\n",
              "Xã hội                        964\n",
              "Sức khỏe                      952\n",
              "Công đoàn                     951\n",
              "Thời sự                       948\n",
              "Giáo dục                      945\n",
              "Văn hóa - Giải trí            941\n",
              "Media                         921\n",
              "Bạn đọc                       920\n",
              "Gia đình - Hôn nhân           873\n",
              "Bất động sản                  869\n",
              "Xe +                          826\n",
              "Tấm Lòng Vàng                 727\n",
              "Công nghệ                     582\n",
              "Lao Động cuối tuần            495\n",
              "Lưu trữ                       379\n",
              "Lao Động & Đời sống           319\n",
              "Diễn đàn                      278\n",
              "Tin hoạt động                 216\n",
              "Tin tức việc làm              166\n",
              "Thông tin tiện ích             96\n",
              "Sự kiện Bình luận              58\n",
              "Phóng sự                       47\n",
              "Tin địa phương                 31\n",
              "Quỹ TLV                        28\n",
              "Thông tin doanh nghiệp         15\n",
              "Tin bài xem thêm               13\n",
              "Du lịch                        11\n",
              "Sổ tay kinh tế                  7\n",
              "Phóng sự - Điều tra             2\n",
              "Người Việt tử tế                2\n",
              "Tin bài nổi bật                 1\n",
              "Tin bài liên quan               1\n",
              "Tản mạn - Chuyện dọc đường      1\n",
              "Video                           1\n",
              "Lao Động Xuân                   1\n",
              "Name: Category, dtype: int64"
            ]
          },
          "metadata": {},
          "execution_count": 53
        }
      ]
    },
    {
      "cell_type": "code",
      "source": [
        "plt.figure(figsize=(10, 6))\n",
        "category_counts.plot(kind='bar', color='skyblue')\n",
        "plt.title('Số lượng bài viết của từng thể loại')\n",
        "plt.xlabel('Thể loại')\n",
        "plt.ylabel('Số lượng bài viết')\n",
        "plt.xticks(rotation=45, ha='right')  # Xoay nhãn trục x nếu cần\n",
        "plt.tight_layout()\n",
        "plt.show()"
      ],
      "metadata": {
        "colab": {
          "base_uri": "https://localhost:8080/",
          "height": 607
        },
        "id": "FPh1cZeQNcf4",
        "outputId": "ccfc8d2a-0fbc-4ee2-ffec-46a70355d4c1"
      },
      "execution_count": 54,
      "outputs": [
        {
          "output_type": "display_data",
          "data": {
            "text/plain": [
              "<Figure size 1000x600 with 1 Axes>"
            ],
            "image/png": "[encoded data removed]"
          },
          "metadata": {}
        }
      ]
    },
    {
      "cell_type": "code",
      "source": [
        "\n",
        "category_mapping = {\n",
        "    'Lao Động Xuân': 'Lao Động & Đời sống',\n",
        "    'Video': 'Media',\n",
        "    'Tản mạn - Chuyện dọc đường': 'Bạn đọc',\n",
        "    'Phóng sự - Điều tra': 'Thời sự',\n",
        "    'Thông tin doanh nghiệp': 'Kinh doanh',\n",
        "    'Lao Động cuối tuần': 'Lao Động & Đời sống',\n",
        "    'Người Việt tử tế': 'Tấm Lòng Vàng',\n",
        "    'Sổ tay kinh tế': 'Kinh doanh',\n",
        "    'Quỹ TLV': 'Tấm Lòng Vàng',\n",
        "    'Tin địa phương': 'Thời sự',\n",
        "    'Du lịch': 'Văn hóa - Giải trí',\n",
        "    'Phóng sự': 'Thời sự'\n",
        "}\n",
        "\n",
        "\n",
        "# Áp dụng việc thay đổi nhãn\n",
        "data['Category'] = data['Category'].replace(category_mapping)\n",
        "data['Category'].value_counts()"
      ],
      "metadata": {
        "colab": {
          "base_uri": "https://localhost:8080/"
        },
        "id": "N-Z5Etxtv41t",
        "outputId": "09f2a356-2525-4780-90b5-e69a6a81d96e"
      },
      "execution_count": 55,
      "outputs": [
        {
          "output_type": "execute_result",
          "data": {
            "text/plain": [
              "Thời sự                1028\n",
              "Kinh doanh              988\n",
              "Pháp luật               985\n",
              "Thế giới                975\n",
              "Thể thao                965\n",
              "Xã hội                  964\n",
              "Sức khỏe                952\n",
              "Văn hóa - Giải trí      952\n",
              "Công đoàn               951\n",
              "Giáo dục                945\n",
              "Media                   922\n",
              "Bạn đọc                 921\n",
              "Gia đình - Hôn nhân     873\n",
              "Bất động sản            869\n",
              "Xe +                    826\n",
              "Lao Động & Đời sống     815\n",
              "Tấm Lòng Vàng           757\n",
              "Công nghệ               582\n",
              "Lưu trữ                 379\n",
              "Diễn đàn                278\n",
              "Tin hoạt động           216\n",
              "Tin tức việc làm        166\n",
              "Thông tin tiện ích       96\n",
              "Sự kiện Bình luận        58\n",
              "Tin bài xem thêm         13\n",
              "Tin bài liên quan         1\n",
              "Tin bài nổi bật           1\n",
              "Name: Category, dtype: int64"
            ]
          },
          "metadata": {},
          "execution_count": 55
        }
      ]
    },
    {
      "cell_type": "code",
      "source": [
        "data.drop(data[data['Category'] == 'Lưu trữ'].index,inplace= True)\n",
        "data.drop(data[data['Category'] == 'Tin hoạt động'].index,inplace= True)\n",
        "data.drop(data[data['Category'] == 'Diễn đàn'].index,inplace= True)\n",
        "data.drop(data[data['Category'] == 'Sự kiện Bình luận'].index,inplace= True)\n",
        "data.drop(data[data['Category'].isin(['Tin bài nổi bật','Tin bài liên quan','Tin bài xem thêm','Lao Động & Đời sống','Bạn đọc','Media','Công đoàn','Xã hội','Kinh doanh','Thời sự'])].index,inplace= True)\n",
        "data.reset_index(drop = True, inplace = True)"
      ],
      "metadata": {
        "id": "N86x80_tv7PG"
      },
      "execution_count": 56,
      "outputs": []
    },
    {
      "cell_type": "code",
      "source": [
        "num_categories = data['Category'].nunique()\n",
        "print(f'Số lượng thể loại có trong bộ dữ liệu: {num_categories}')\n",
        "print('Số lượng bài viết của từng thể loại:')\n",
        "data['Category'].value_counts()"
      ],
      "metadata": {
        "colab": {
          "base_uri": "https://localhost:8080/"
        },
        "id": "wgJgQBRxwAvJ",
        "outputId": "bef90ac8-3031-474e-e255-b097edd72999"
      },
      "execution_count": 57,
      "outputs": [
        {
          "output_type": "stream",
          "name": "stdout",
          "text": [
            "Số lượng thể loại có trong bộ dữ liệu: 13\n",
            "Số lượng bài viết của từng thể loại:\n"
          ]
        },
        {
          "output_type": "execute_result",
          "data": {
            "text/plain": [
              "Pháp luật              985\n",
              "Thế giới               975\n",
              "Thể thao               965\n",
              "Văn hóa - Giải trí     952\n",
              "Sức khỏe               952\n",
              "Giáo dục               945\n",
              "Gia đình - Hôn nhân    873\n",
              "Bất động sản           869\n",
              "Xe +                   826\n",
              "Tấm Lòng Vàng          757\n",
              "Công nghệ              582\n",
              "Tin tức việc làm       166\n",
              "Thông tin tiện ích      96\n",
              "Name: Category, dtype: int64"
            ]
          },
          "metadata": {},
          "execution_count": 57
        }
      ]
    },
    {
      "cell_type": "code",
      "source": [
        "import matplotlib.pyplot as plt\n",
        "\n",
        "# Tính toán số lượng bài viết của mỗi thể loại\n",
        "category_counts = data['Category'].value_counts()\n",
        "\n",
        "import matplotlib.pyplot as plt\n",
        "\n",
        "# Tính toán số lượng bài viết của mỗi thể loại\n",
        "category_counts = data['Category'].value_counts()\n",
        "\n",
        "# Vẽ biểu đồ\n",
        "plt.figure(figsize=(10, 6))\n",
        "plt.plot(category_counts.index, category_counts.values, marker='o', color='red', linewidth=2)\n",
        "plt.bar(category_counts.index, category_counts.values, color='skyblue')\n",
        "plt.title('Số lượng bài viết của từng thể loại')\n",
        "plt.xlabel('Thể loại')\n",
        "plt.ylabel('Số lượng bài viết')\n",
        "plt.xticks(rotation=45)\n",
        "plt.legend()  # Hiển thị chú thích\n",
        "plt.grid(axis='y', linestyle='--', alpha=0.7)\n",
        "plt.tight_layout()\n",
        "plt.show()\n",
        "\n"
      ],
      "metadata": {
        "colab": {
          "base_uri": "https://localhost:8080/",
          "height": 624
        },
        "id": "Cm-sdoUNPK1m",
        "outputId": "246db9ea-e53f-4859-fd6e-358397aa7eb8"
      },
      "execution_count": 58,
      "outputs": [
        {
          "output_type": "stream",
          "name": "stderr",
          "text": [
            "WARNING:matplotlib.legend:No artists with labels found to put in legend.  Note that artists whose label start with an underscore are ignored when legend() is called with no argument.\n"
          ]
        },
        {
          "output_type": "display_data",
          "data": {
            "text/plain": [
              "<Figure size 1000x600 with 1 Axes>"
            ],
            "image/png": "[encoded data removed]"
          },
          "metadata": {}
        }
      ]
    },
    {
      "cell_type": "code",
      "source": [
        "data_df = data[['Category','Summary']]\n",
        "data_df"
      ],
      "metadata": {
        "colab": {
          "base_uri": "https://localhost:8080/",
          "height": 424
        },
        "id": "DZ0ZV5C8wDEf",
        "outputId": "6137a4f0-7628-4678-b402-7a7f53fae970"
      },
      "execution_count": 59,
      "outputs": [
        {
          "output_type": "execute_result",
          "data": {
            "text/plain": [
              "          Category                                            Summary\n",
              "0     Bất động sản  Bước sang quý III.2019, giao dịch bất động sản...\n",
              "1     Bất động sản  Tin tưởng vào việc hùn vốn với giám đốc công t...\n",
              "2     Bất động sản  Chủ tịch UBND tỉnh Bắc Ninh vừa phê duyệt quy ...\n",
              "3     Bất động sản  Chuyển đổi quyền sử dụng đất (đổi đất) chỉ áp ...\n",
              "4     Bất động sản  Không ai phủ nhận ý nghĩa của Đề án giãn dân p...\n",
              "...            ...                                                ...\n",
              "9938          Xe +  Mới đây, trên mạng xã hội giao thông đăng tải ...\n",
              "9939          Xe +  Theo thống kê của Uỷ ban ATGT Quốc gia, trong ...\n",
              "9940          Xe +  Ca sĩ Lily Chen tậu xe Mercedes G63 AMG có giá...\n",
              "9941          Xe +  Xe máy sau một thời gian vận hành, một số bộ p...\n",
              "9942          Xe +  Xe hơi là phương tiện di chuyển tối ưu trong n...\n",
              "\n",
              "[9943 rows x 2 columns]"
            ],
            "text/html": [
              "\n",
              "  <div id=\"df-e62db5b1-8c84-4143-8b1b-31d77d8ca2de\" class=\"colab-df-container\">\n",
              "    <div>\n",
              "<style scoped>\n",
              "    .dataframe tbody tr th:only-of-type {\n",
              "        vertical-align: middle;\n",
              "    }\n",
              "\n",
              "    .dataframe tbody tr th {\n",
              "        vertical-align: top;\n",
              "    }\n",
              "\n",
              "    .dataframe thead th {\n",
              "        text-align: right;\n",
              "    }\n",
              "</style>\n",
              "<table border=\"1\" class=\"dataframe\">\n",
              "  <thead>\n",
              "    <tr style=\"text-align: right;\">\n",
              "      <th></th>\n",
              "      <th>Category</th>\n",
              "      <th>Summary</th>\n",
              "    </tr>\n",
              "  </thead>\n",
              "  <tbody>\n",
              "    <tr>\n",
              "      <th>0</th>\n",
              "      <td>Bất động sản</td>\n",
              "      <td>Bước sang quý III.2019, giao dịch bất động sản...</td>\n",
              "    </tr>\n",
              "    <tr>\n",
              "      <th>1</th>\n",
              "      <td>Bất động sản</td>\n",
              "      <td>Tin tưởng vào việc hùn vốn với giám đốc công t...</td>\n",
              "    </tr>\n",
              "    <tr>\n",
              "      <th>2</th>\n",
              "      <td>Bất động sản</td>\n",
              "      <td>Chủ tịch UBND tỉnh Bắc Ninh vừa phê duyệt quy ...</td>\n",
              "    </tr>\n",
              "    <tr>\n",
              "      <th>3</th>\n",
              "      <td>Bất động sản</td>\n",
              "      <td>Chuyển đổi quyền sử dụng đất (đổi đất) chỉ áp ...</td>\n",
              "    </tr>\n",
              "    <tr>\n",
              "      <th>4</th>\n",
              "      <td>Bất động sản</td>\n",
              "      <td>Không ai phủ nhận ý nghĩa của Đề án giãn dân p...</td>\n",
              "    </tr>\n",
              "    <tr>\n",
              "      <th>...</th>\n",
              "      <td>...</td>\n",
              "      <td>...</td>\n",
              "    </tr>\n",
              "    <tr>\n",
              "      <th>9938</th>\n",
              "      <td>Xe +</td>\n",
              "      <td>Mới đây, trên mạng xã hội giao thông đăng tải ...</td>\n",
              "    </tr>\n",
              "    <tr>\n",
              "      <th>9939</th>\n",
              "      <td>Xe +</td>\n",
              "      <td>Theo thống kê của Uỷ ban ATGT Quốc gia, trong ...</td>\n",
              "    </tr>\n",
              "    <tr>\n",
              "      <th>9940</th>\n",
              "      <td>Xe +</td>\n",
              "      <td>Ca sĩ Lily Chen tậu xe Mercedes G63 AMG có giá...</td>\n",
              "    </tr>\n",
              "    <tr>\n",
              "      <th>9941</th>\n",
              "      <td>Xe +</td>\n",
              "      <td>Xe máy sau một thời gian vận hành, một số bộ p...</td>\n",
              "    </tr>\n",
              "    <tr>\n",
              "      <th>9942</th>\n",
              "      <td>Xe +</td>\n",
              "      <td>Xe hơi là phương tiện di chuyển tối ưu trong n...</td>\n",
              "    </tr>\n",
              "  </tbody>\n",
              "</table>\n",
              "<p>9943 rows × 2 columns</p>\n",
              "</div>\n",
              "    <div class=\"colab-df-buttons\">\n",
              "\n",
              "  <div class=\"colab-df-container\">\n",
              "    <button class=\"colab-df-convert\" onclick=\"convertToInteractive('df-e62db5b1-8c84-4143-8b1b-31d77d8ca2de')\"\n",
              "            title=\"Convert this dataframe to an interactive table.\"\n",
              "            style=\"display:none;\">\n",
              "\n",
              "  <svg xmlns=\"http://www.w3.org/2000/svg\" height=\"24px\" viewBox=\"0 -960 960 960\">\n",
              "    <path d=\"M120-120v-720h720v720H120Zm60-500h600v-160H180v160Zm220 220h160v-160H400v160Zm0 220h160v-160H400v160ZM180-400h160v-160H180v160Zm440 0h160v-160H620v160ZM180-180h160v-160H180v160Zm440 0h160v-160H620v160Z\"/>\n",
              "  </svg>\n",
              "    </button>\n",
              "\n",
              "  <style>\n",
              "    .colab-df-container {\n",
              "      display:flex;\n",
              "      gap: 12px;\n",
              "    }\n",
              "\n",
              "    .colab-df-convert {\n",
              "      background-color: #E8F0FE;\n",
              "      border: none;\n",
              "      border-radius: 50%;\n",
              "      cursor: pointer;\n",
              "      display: none;\n",
              "      fill: #1967D2;\n",
              "      height: 32px;\n",
              "      padding: 0 0 0 0;\n",
              "      width: 32px;\n",
              "    }\n",
              "\n",
              "    .colab-df-convert:hover {\n",
              "      background-color: #E2EBFA;\n",
              "      box-shadow: 0px 1px 2px rgba(60, 64, 67, 0.3), 0px 1px 3px 1px rgba(60, 64, 67, 0.15);\n",
              "      fill: #174EA6;\n",
              "    }\n",
              "\n",
              "    .colab-df-buttons div {\n",
              "      margin-bottom: 4px;\n",
              "    }\n",
              "\n",
              "    [theme=dark] .colab-df-convert {\n",
              "      background-color: #3B4455;\n",
              "      fill: #D2E3FC;\n",
              "    }\n",
              "\n",
              "    [theme=dark] .colab-df-convert:hover {\n",
              "      background-color: #434B5C;\n",
              "      box-shadow: 0px 1px 3px 1px rgba(0, 0, 0, 0.15);\n",
              "      filter: drop-shadow(0px 1px 2px rgba(0, 0, 0, 0.3));\n",
              "      fill: #FFFFFF;\n",
              "    }\n",
              "  </style>\n",
              "\n",
              "    <script>\n",
              "      const buttonEl =\n",
              "        document.querySelector('#df-e62db5b1-8c84-4143-8b1b-31d77d8ca2de button.colab-df-convert');\n",
              "      buttonEl.style.display =\n",
              "        google.colab.kernel.accessAllowed ? 'block' : 'none';\n",
              "\n",
              "      async function convertToInteractive(key) {\n",
              "        const element = document.querySelector('#df-e62db5b1-8c84-4143-8b1b-31d77d8ca2de');\n",
              "        const dataTable =\n",
              "          await google.colab.kernel.invokeFunction('convertToInteractive',\n",
              "                                                    [key], {});\n",
              "        if (!dataTable) return;\n",
              "\n",
              "        const docLinkHtml = 'Like what you see? Visit the ' +\n",
              "          '<a target=\"_blank\" href=https://colab.research.google.com/notebooks/data_table.ipynb>data table notebook</a>'\n",
              "          + ' to learn more about interactive tables.';\n",
              "        element.innerHTML = '';\n",
              "        dataTable['output_type'] = 'display_data';\n",
              "        await google.colab.output.renderOutput(dataTable, element);\n",
              "        const docLink = document.createElement('div');\n",
              "        docLink.innerHTML = docLinkHtml;\n",
              "        element.appendChild(docLink);\n",
              "      }\n",
              "    </script>\n",
              "  </div>\n",
              "\n",
              "\n",
              "<div id=\"df-0817a4d3-928f-4df7-9702-ed558a550275\">\n",
              "  <button class=\"colab-df-quickchart\" onclick=\"quickchart('df-0817a4d3-928f-4df7-9702-ed558a550275')\"\n",
              "            title=\"Suggest charts\"\n",
              "            style=\"display:none;\">\n",
              "\n",
              "<svg xmlns=\"http://www.w3.org/2000/svg\" height=\"24px\"viewBox=\"0 0 24 24\"\n",
              "     width=\"24px\">\n",
              "    <g>\n",
              "        <path d=\"M19 3H5c-1.1 0-2 .9-2 2v14c0 1.1.9 2 2 2h14c1.1 0 2-.9 2-2V5c0-1.1-.9-2-2-2zM9 17H7v-7h2v7zm4 0h-2V7h2v10zm4 0h-2v-4h2v4z\"/>\n",
              "    </g>\n",
              "</svg>\n",
              "  </button>\n",
              "\n",
              "<style>\n",
              "  .colab-df-quickchart {\n",
              "      --bg-color: #E8F0FE;\n",
              "      --fill-color: #1967D2;\n",
              "      --hover-bg-color: #E2EBFA;\n",
              "      --hover-fill-color: #174EA6;\n",
              "      --disabled-fill-color: #AAA;\n",
              "      --disabled-bg-color: #DDD;\n",
              "  }\n",
              "\n",
              "  [theme=dark] .colab-df-quickchart {\n",
              "      --bg-color: #3B4455;\n",
              "      --fill-color: #D2E3FC;\n",
              "      --hover-bg-color: #434B5C;\n",
              "      --hover-fill-color: #FFFFFF;\n",
              "      --disabled-bg-color: #3B4455;\n",
              "      --disabled-fill-color: #666;\n",
              "  }\n",
              "\n",
              "  .colab-df-quickchart {\n",
              "    background-color: var(--bg-color);\n",
              "    border: none;\n",
              "    border-radius: 50%;\n",
              "    cursor: pointer;\n",
              "    display: none;\n",
              "    fill: var(--fill-color);\n",
              "    height: 32px;\n",
              "    padding: 0;\n",
              "    width: 32px;\n",
              "  }\n",
              "\n",
              "  .colab-df-quickchart:hover {\n",
              "    background-color: var(--hover-bg-color);\n",
              "    box-shadow: 0 1px 2px rgba(60, 64, 67, 0.3), 0 1px 3px 1px rgba(60, 64, 67, 0.15);\n",
              "    fill: var(--button-hover-fill-color);\n",
              "  }\n",
              "\n",
              "  .colab-df-quickchart-complete:disabled,\n",
              "  .colab-df-quickchart-complete:disabled:hover {\n",
              "    background-color: var(--disabled-bg-color);\n",
              "    fill: var(--disabled-fill-color);\n",
              "    box-shadow: none;\n",
              "  }\n",
              "\n",
              "  .colab-df-spinner {\n",
              "    border: 2px solid var(--fill-color);\n",
              "    border-color: transparent;\n",
              "    border-bottom-color: var(--fill-color);\n",
              "    animation:\n",
              "      spin 1s steps(1) infinite;\n",
              "  }\n",
              "\n",
              "  @keyframes spin {\n",
              "    0% {\n",
              "      border-color: transparent;\n",
              "      border-bottom-color: var(--fill-color);\n",
              "      border-left-color: var(--fill-color);\n",
              "    }\n",
              "    20% {\n",
              "      border-color: transparent;\n",
              "      border-left-color: var(--fill-color);\n",
              "      border-top-color: var(--fill-color);\n",
              "    }\n",
              "    30% {\n",
              "      border-color: transparent;\n",
              "      border-left-color: var(--fill-color);\n",
              "      border-top-color: var(--fill-color);\n",
              "      border-right-color: var(--fill-color);\n",
              "    }\n",
              "    40% {\n",
              "      border-color: transparent;\n",
              "      border-right-color: var(--fill-color);\n",
              "      border-top-color: var(--fill-color);\n",
              "    }\n",
              "    60% {\n",
              "      border-color: transparent;\n",
              "      border-right-color: var(--fill-color);\n",
              "    }\n",
              "    80% {\n",
              "      border-color: transparent;\n",
              "      border-right-color: var(--fill-color);\n",
              "      border-bottom-color: var(--fill-color);\n",
              "    }\n",
              "    90% {\n",
              "      border-color: transparent;\n",
              "      border-bottom-color: var(--fill-color);\n",
              "    }\n",
              "  }\n",
              "</style>\n",
              "\n",
              "  <script>\n",
              "    async function quickchart(key) {\n",
              "      const quickchartButtonEl =\n",
              "        document.querySelector('#' + key + ' button');\n",
              "      quickchartButtonEl.disabled = true;  // To prevent multiple clicks.\n",
              "      quickchartButtonEl.classList.add('colab-df-spinner');\n",
              "      try {\n",
              "        const charts = await google.colab.kernel.invokeFunction(\n",
              "            'suggestCharts', [key], {});\n",
              "      } catch (error) {\n",
              "        console.error('Error during call to suggestCharts:', error);\n",
              "      }\n",
              "      quickchartButtonEl.classList.remove('colab-df-spinner');\n",
              "      quickchartButtonEl.classList.add('colab-df-quickchart-complete');\n",
              "    }\n",
              "    (() => {\n",
              "      let quickchartButtonEl =\n",
              "        document.querySelector('#df-0817a4d3-928f-4df7-9702-ed558a550275 button');\n",
              "      quickchartButtonEl.style.display =\n",
              "        google.colab.kernel.accessAllowed ? 'block' : 'none';\n",
              "    })();\n",
              "  </script>\n",
              "</div>\n",
              "    </div>\n",
              "  </div>\n"
            ],
            "application/vnd.google.colaboratory.intrinsic+json": {
              "type": "dataframe",
              "variable_name": "data_df",
              "summary": "{\n  \"name\": \"data_df\",\n  \"rows\": 9943,\n  \"fields\": [\n    {\n      \"column\": \"Category\",\n      \"properties\": {\n        \"dtype\": \"category\",\n        \"num_unique_values\": 13,\n        \"samples\": [\n          \"Tin t\\u1ee9c vi\\u1ec7c l\\u00e0m\",\n          \"Th\\u1ebf gi\\u1edbi\",\n          \"B\\u1ea5t \\u0111\\u1ed9ng s\\u1ea3n\"\n        ],\n        \"semantic_type\": \"\",\n        \"description\": \"\"\n      }\n    },\n    {\n      \"column\": \"Summary\",\n      \"properties\": {\n        \"dtype\": \"string\",\n        \"num_unique_values\": 9903,\n        \"samples\": [\n          \"Theo x\\u00e1c minh c\\u1ee7a PV B\\u00e1o Lao \\u0110\\u1ed9ng,\\u00a0ng\\u01b0\\u1eddi ph\\u1ee5 n\\u1eef b\\u00ea ph\\u1edf v\\u00e0o \\u0111i\\u1ec3m thi Tr\\u01b0\\u1eddng THCS Phan \\u0110\\u00ecnh Gi\\u00f3t s\\u00e1ng ng\\u00e0y 7.6 l\\u00e0 nh\\u00e2n vi\\u00ean c\\u1ee7a h\\u1ed9i \\u0111\\u1ed3ng thi n\\u00e0y ch\\u1ee9 kh\\u00f4ng ph\\u1ea3i l\\u00e0 nh\\u00e2n vi\\u00ean qu\\u00e1n ph\\u1edf nh\\u01b0 th\\u00f4ng b\\u00e1o c\\u1ee7a S\\u1edf GD\\u0110T H\\u00e0 N\\u1ed9i.\",\n          \"V\\u00e0o th\\u1eddi kh\\u1eafc giao th\\u1eeba (gi\\u1edd ch\\u00ednh T\\u00fd, t\\u1ee9c \\u0111\\u00fang 12 gi\\u1edd \\u0111\\u00eam 30 th\\u00e1ng Ch\\u1ea1p), c\\u00e1c gia \\u0111\\u00ecnh l\\u00e0m 2 m\\u00e2m c\\u00fang - c\\u00fang quan th\\u1ea7n v\\u00e0 gia ti\\u00ean \\u0111\\u1ec3 ti\\u1ec5n nh\\u1eefng \\u0111i\\u1ec1u kh\\u00f4ng t\\u1ed1t t\\u1eeb n\\u0103m c\\u0169 v\\u00e0 \\u0111\\u00f3n nh\\u1eefng \\u0111i\\u1ec1u t\\u1ed1t \\u0111\\u1eb9p trong n\\u0103m m\\u1edbi.\",\n          \"Ng\\u01b0\\u1eddi ph\\u1ee5 n\\u1eef th\\u01b0\\u1eddng quan ni\\u1ec7m \\u0111\\u00e0n \\u00f4ng y\\u00eau v\\u1ee3 s\\u1ebd lu\\u00f4n th\\u1ec3 hi\\u1ec7n c\\u1eed ch\\u1ec9 ch\\u0103m s\\u00f3c \\u00e2n c\\u1ea7n, nh\\u1eb9 nh\\u00e0ng m\\u00e0 kh\\u00f4ng h\\u1ec1 bi\\u1ebft r\\u1eb1ng k\\u1ec3 c\\u1ea3 khi t\\u1ee9c gi\\u1eadn, c\\u0169ng c\\u00f3 th\\u1ec3 l\\u00e0 do h\\u1ecd qu\\u00e1 lo l\\u1eafng cho b\\u1ea1n.\"\n        ],\n        \"semantic_type\": \"\",\n        \"description\": \"\"\n      }\n    }\n  ]\n}"
            }
          },
          "metadata": {},
          "execution_count": 59
        }
      ]
    },
    {
      "cell_type": "code",
      "source": [
        "def text_preprocessing(sent):\n",
        "    sent = str(sent)\n",
        "\n",
        "    with open('/content/drive/MyDrive/data/News/data VN/vietnamese.txt', 'r', encoding='utf-8') as f:\n",
        "        stop_words = f.read().split('\\n')\n",
        "\n",
        "    sent = re.sub(f'[{string.punctuation}\\d\\n]', '', sent)\n",
        "    sent = re.sub(r'[^\\w\\s]', '', sent)\n",
        "    sent = ViTokenizer.tokenize(sent.lower())\n",
        "    sent = [w for w in sent.split()]\n",
        "    sent = [w for w in sent if w not in stop_words]\n",
        "    return ' '.join(sent)"
      ],
      "metadata": {
        "id": "lG3eosc4wOJk"
      },
      "execution_count": 60,
      "outputs": []
    },
    {
      "cell_type": "code",
      "source": [
        "data_df['tokenized_contents'] = data['Summary'].apply(lambda x: text_preprocessing(x))\n",
        "data_df"
      ],
      "metadata": {
        "colab": {
          "base_uri": "https://localhost:8080/",
          "height": 424
        },
        "id": "CXy92v6IwQXF",
        "outputId": "beae7bf0-ad29-4b40-b72d-6b5eae981a10"
      },
      "execution_count": 61,
      "outputs": [
        {
          "output_type": "execute_result",
          "data": {
            "text/plain": [
              "          Category                                            Summary  \\\n",
              "0     Bất động sản  Bước sang quý III.2019, giao dịch bất động sản...   \n",
              "1     Bất động sản  Tin tưởng vào việc hùn vốn với giám đốc công t...   \n",
              "2     Bất động sản  Chủ tịch UBND tỉnh Bắc Ninh vừa phê duyệt quy ...   \n",
              "3     Bất động sản  Chuyển đổi quyền sử dụng đất (đổi đất) chỉ áp ...   \n",
              "4     Bất động sản  Không ai phủ nhận ý nghĩa của Đề án giãn dân p...   \n",
              "...            ...                                                ...   \n",
              "9938          Xe +  Mới đây, trên mạng xã hội giao thông đăng tải ...   \n",
              "9939          Xe +  Theo thống kê của Uỷ ban ATGT Quốc gia, trong ...   \n",
              "9940          Xe +  Ca sĩ Lily Chen tậu xe Mercedes G63 AMG có giá...   \n",
              "9941          Xe +  Xe máy sau một thời gian vận hành, một số bộ p...   \n",
              "9942          Xe +  Xe hơi là phương tiện di chuyển tối ưu trong n...   \n",
              "\n",
              "                                     tokenized_contents  \n",
              "0     quý iii giao_dịch bất_động_sản thị_trường đà_n...  \n",
              "1     tin_tưởng hùn vốn giám_đốc công_ty bất_động_sả...  \n",
              "2     chủ_tịch ubnd tỉnh bắc ninh phê_duyệt quy_hoạc...  \n",
              "3     chuyển_đổi quyền sử_dụng đất đổi đất áp_dụng đ...  \n",
              "4     phủ_nhận ý_nghĩa đề_án giãn dân_phố cổ hà_nội ...  \n",
              "...                                                 ...  \n",
              "9938  mới_đây mạng xã_hội giao_thông đăng_tải clip b...  \n",
              "9939  thống_kê uỷ_ban atgt quốc_gia đầu toàn_quốc xả...  \n",
              "9940  ca_sĩ lily chen tậu xe mercedes g amg có_giá l...  \n",
              "9941  xe_máy thời_gian vận_hành một_số bộ_phận rơ rã...  \n",
              "9942  xe_hơi phương_tiện di_chuyển tối_ưu nắng_nóng ...  \n",
              "\n",
              "[9943 rows x 3 columns]"
            ],
            "text/html": [
              "\n",
              "  <div id=\"df-c27dd15c-b9ed-49ff-a304-2ee3f79d5c3f\" class=\"colab-df-container\">\n",
              "    <div>\n",
              "<style scoped>\n",
              "    .dataframe tbody tr th:only-of-type {\n",
              "        vertical-align: middle;\n",
              "    }\n",
              "\n",
              "    .dataframe tbody tr th {\n",
              "        vertical-align: top;\n",
              "    }\n",
              "\n",
              "    .dataframe thead th {\n",
              "        text-align: right;\n",
              "    }\n",
              "</style>\n",
              "<table border=\"1\" class=\"dataframe\">\n",
              "  <thead>\n",
              "    <tr style=\"text-align: right;\">\n",
              "      <th></th>\n",
              "      <th>Category</th>\n",
              "      <th>Summary</th>\n",
              "      <th>tokenized_contents</th>\n",
              "    </tr>\n",
              "  </thead>\n",
              "  <tbody>\n",
              "    <tr>\n",
              "      <th>0</th>\n",
              "      <td>Bất động sản</td>\n",
              "      <td>Bước sang quý III.2019, giao dịch bất động sản...</td>\n",
              "      <td>quý iii giao_dịch bất_động_sản thị_trường đà_n...</td>\n",
              "    </tr>\n",
              "    <tr>\n",
              "      <th>1</th>\n",
              "      <td>Bất động sản</td>\n",
              "      <td>Tin tưởng vào việc hùn vốn với giám đốc công t...</td>\n",
              "      <td>tin_tưởng hùn vốn giám_đốc công_ty bất_động_sả...</td>\n",
              "    </tr>\n",
              "    <tr>\n",
              "      <th>2</th>\n",
              "      <td>Bất động sản</td>\n",
              "      <td>Chủ tịch UBND tỉnh Bắc Ninh vừa phê duyệt quy ...</td>\n",
              "      <td>chủ_tịch ubnd tỉnh bắc ninh phê_duyệt quy_hoạc...</td>\n",
              "    </tr>\n",
              "    <tr>\n",
              "      <th>3</th>\n",
              "      <td>Bất động sản</td>\n",
              "      <td>Chuyển đổi quyền sử dụng đất (đổi đất) chỉ áp ...</td>\n",
              "      <td>chuyển_đổi quyền sử_dụng đất đổi đất áp_dụng đ...</td>\n",
              "    </tr>\n",
              "    <tr>\n",
              "      <th>4</th>\n",
              "      <td>Bất động sản</td>\n",
              "      <td>Không ai phủ nhận ý nghĩa của Đề án giãn dân p...</td>\n",
              "      <td>phủ_nhận ý_nghĩa đề_án giãn dân_phố cổ hà_nội ...</td>\n",
              "    </tr>\n",
              "    <tr>\n",
              "      <th>...</th>\n",
              "      <td>...</td>\n",
              "      <td>...</td>\n",
              "      <td>...</td>\n",
              "    </tr>\n",
              "    <tr>\n",
              "      <th>9938</th>\n",
              "      <td>Xe +</td>\n",
              "      <td>Mới đây, trên mạng xã hội giao thông đăng tải ...</td>\n",
              "      <td>mới_đây mạng xã_hội giao_thông đăng_tải clip b...</td>\n",
              "    </tr>\n",
              "    <tr>\n",
              "      <th>9939</th>\n",
              "      <td>Xe +</td>\n",
              "      <td>Theo thống kê của Uỷ ban ATGT Quốc gia, trong ...</td>\n",
              "      <td>thống_kê uỷ_ban atgt quốc_gia đầu toàn_quốc xả...</td>\n",
              "    </tr>\n",
              "    <tr>\n",
              "      <th>9940</th>\n",
              "      <td>Xe +</td>\n",
              "      <td>Ca sĩ Lily Chen tậu xe Mercedes G63 AMG có giá...</td>\n",
              "      <td>ca_sĩ lily chen tậu xe mercedes g amg có_giá l...</td>\n",
              "    </tr>\n",
              "    <tr>\n",
              "      <th>9941</th>\n",
              "      <td>Xe +</td>\n",
              "      <td>Xe máy sau một thời gian vận hành, một số bộ p...</td>\n",
              "      <td>xe_máy thời_gian vận_hành một_số bộ_phận rơ rã...</td>\n",
              "    </tr>\n",
              "    <tr>\n",
              "      <th>9942</th>\n",
              "      <td>Xe +</td>\n",
              "      <td>Xe hơi là phương tiện di chuyển tối ưu trong n...</td>\n",
              "      <td>xe_hơi phương_tiện di_chuyển tối_ưu nắng_nóng ...</td>\n",
              "    </tr>\n",
              "  </tbody>\n",
              "</table>\n",
              "<p>9943 rows × 3 columns</p>\n",
              "</div>\n",
              "    <div class=\"colab-df-buttons\">\n",
              "\n",
              "  <div class=\"colab-df-container\">\n",
              "    <button class=\"colab-df-convert\" onclick=\"convertToInteractive('df-c27dd15c-b9ed-49ff-a304-2ee3f79d5c3f')\"\n",
              "            title=\"Convert this dataframe to an interactive table.\"\n",
              "            style=\"display:none;\">\n",
              "\n",
              "  <svg xmlns=\"http://www.w3.org/2000/svg\" height=\"24px\" viewBox=\"0 -960 960 960\">\n",
              "    <path d=\"M120-120v-720h720v720H120Zm60-500h600v-160H180v160Zm220 220h160v-160H400v160Zm0 220h160v-160H400v160ZM180-400h160v-160H180v160Zm440 0h160v-160H620v160ZM180-180h160v-160H180v160Zm440 0h160v-160H620v160Z\"/>\n",
              "  </svg>\n",
              "    </button>\n",
              "\n",
              "  <style>\n",
              "    .colab-df-container {\n",
              "      display:flex;\n",
              "      gap: 12px;\n",
              "    }\n",
              "\n",
              "    .colab-df-convert {\n",
              "      background-color: #E8F0FE;\n",
              "      border: none;\n",
              "      border-radius: 50%;\n",
              "      cursor: pointer;\n",
              "      display: none;\n",
              "      fill: #1967D2;\n",
              "      height: 32px;\n",
              "      padding: 0 0 0 0;\n",
              "      width: 32px;\n",
              "    }\n",
              "\n",
              "    .colab-df-convert:hover {\n",
              "      background-color: #E2EBFA;\n",
              "      box-shadow: 0px 1px 2px rgba(60, 64, 67, 0.3), 0px 1px 3px 1px rgba(60, 64, 67, 0.15);\n",
              "      fill: #174EA6;\n",
              "    }\n",
              "\n",
              "    .colab-df-buttons div {\n",
              "      margin-bottom: 4px;\n",
              "    }\n",
              "\n",
              "    [theme=dark] .colab-df-convert {\n",
              "      background-color: #3B4455;\n",
              "      fill: #D2E3FC;\n",
              "    }\n",
              "\n",
              "    [theme=dark] .colab-df-convert:hover {\n",
              "      background-color: #434B5C;\n",
              "      box-shadow: 0px 1px 3px 1px rgba(0, 0, 0, 0.15);\n",
              "      filter: drop-shadow(0px 1px 2px rgba(0, 0, 0, 0.3));\n",
              "      fill: #FFFFFF;\n",
              "    }\n",
              "  </style>\n",
              "\n",
              "    <script>\n",
              "      const buttonEl =\n",
              "        document.querySelector('#df-c27dd15c-b9ed-49ff-a304-2ee3f79d5c3f button.colab-df-convert');\n",
              "      buttonEl.style.display =\n",
              "        google.colab.kernel.accessAllowed ? 'block' : 'none';\n",
              "\n",
              "      async function convertToInteractive(key) {\n",
              "        const element = document.querySelector('#df-c27dd15c-b9ed-49ff-a304-2ee3f79d5c3f');\n",
              "        const dataTable =\n",
              "          await google.colab.kernel.invokeFunction('convertToInteractive',\n",
              "                                                    [key], {});\n",
              "        if (!dataTable) return;\n",
              "\n",
              "        const docLinkHtml = 'Like what you see? Visit the ' +\n",
              "          '<a target=\"_blank\" href=https://colab.research.google.com/notebooks/data_table.ipynb>data table notebook</a>'\n",
              "          + ' to learn more about interactive tables.';\n",
              "        element.innerHTML = '';\n",
              "        dataTable['output_type'] = 'display_data';\n",
              "        await google.colab.output.renderOutput(dataTable, element);\n",
              "        const docLink = document.createElement('div');\n",
              "        docLink.innerHTML = docLinkHtml;\n",
              "        element.appendChild(docLink);\n",
              "      }\n",
              "    </script>\n",
              "  </div>\n",
              "\n",
              "\n",
              "<div id=\"df-1b6a6dc1-e6d6-4fc6-93a2-0fa0aa520c38\">\n",
              "  <button class=\"colab-df-quickchart\" onclick=\"quickchart('df-1b6a6dc1-e6d6-4fc6-93a2-0fa0aa520c38')\"\n",
              "            title=\"Suggest charts\"\n",
              "            style=\"display:none;\">\n",
              "\n",
              "<svg xmlns=\"http://www.w3.org/2000/svg\" height=\"24px\"viewBox=\"0 0 24 24\"\n",
              "     width=\"24px\">\n",
              "    <g>\n",
              "        <path d=\"M19 3H5c-1.1 0-2 .9-2 2v14c0 1.1.9 2 2 2h14c1.1 0 2-.9 2-2V5c0-1.1-.9-2-2-2zM9 17H7v-7h2v7zm4 0h-2V7h2v10zm4 0h-2v-4h2v4z\"/>\n",
              "    </g>\n",
              "</svg>\n",
              "  </button>\n",
              "\n",
              "<style>\n",
              "  .colab-df-quickchart {\n",
              "      --bg-color: #E8F0FE;\n",
              "      --fill-color: #1967D2;\n",
              "      --hover-bg-color: #E2EBFA;\n",
              "      --hover-fill-color: #174EA6;\n",
              "      --disabled-fill-color: #AAA;\n",
              "      --disabled-bg-color: #DDD;\n",
              "  }\n",
              "\n",
              "  [theme=dark] .colab-df-quickchart {\n",
              "      --bg-color: #3B4455;\n",
              "      --fill-color: #D2E3FC;\n",
              "      --hover-bg-color: #434B5C;\n",
              "      --hover-fill-color: #FFFFFF;\n",
              "      --disabled-bg-color: #3B4455;\n",
              "      --disabled-fill-color: #666;\n",
              "  }\n",
              "\n",
              "  .colab-df-quickchart {\n",
              "    background-color: var(--bg-color);\n",
              "    border: none;\n",
              "    border-radius: 50%;\n",
              "    cursor: pointer;\n",
              "    display: none;\n",
              "    fill: var(--fill-color);\n",
              "    height: 32px;\n",
              "    padding: 0;\n",
              "    width: 32px;\n",
              "  }\n",
              "\n",
              "  .colab-df-quickchart:hover {\n",
              "    background-color: var(--hover-bg-color);\n",
              "    box-shadow: 0 1px 2px rgba(60, 64, 67, 0.3), 0 1px 3px 1px rgba(60, 64, 67, 0.15);\n",
              "    fill: var(--button-hover-fill-color);\n",
              "  }\n",
              "\n",
              "  .colab-df-quickchart-complete:disabled,\n",
              "  .colab-df-quickchart-complete:disabled:hover {\n",
              "    background-color: var(--disabled-bg-color);\n",
              "    fill: var(--disabled-fill-color);\n",
              "    box-shadow: none;\n",
              "  }\n",
              "\n",
              "  .colab-df-spinner {\n",
              "    border: 2px solid var(--fill-color);\n",
              "    border-color: transparent;\n",
              "    border-bottom-color: var(--fill-color);\n",
              "    animation:\n",
              "      spin 1s steps(1) infinite;\n",
              "  }\n",
              "\n",
              "  @keyframes spin {\n",
              "    0% {\n",
              "      border-color: transparent;\n",
              "      border-bottom-color: var(--fill-color);\n",
              "      border-left-color: var(--fill-color);\n",
              "    }\n",
              "    20% {\n",
              "      border-color: transparent;\n",
              "      border-left-color: var(--fill-color);\n",
              "      border-top-color: var(--fill-color);\n",
              "    }\n",
              "    30% {\n",
              "      border-color: transparent;\n",
              "      border-left-color: var(--fill-color);\n",
              "      border-top-color: var(--fill-color);\n",
              "      border-right-color: var(--fill-color);\n",
              "    }\n",
              "    40% {\n",
              "      border-color: transparent;\n",
              "      border-right-color: var(--fill-color);\n",
              "      border-top-color: var(--fill-color);\n",
              "    }\n",
              "    60% {\n",
              "      border-color: transparent;\n",
              "      border-right-color: var(--fill-color);\n",
              "    }\n",
              "    80% {\n",
              "      border-color: transparent;\n",
              "      border-right-color: var(--fill-color);\n",
              "      border-bottom-color: var(--fill-color);\n",
              "    }\n",
              "    90% {\n",
              "      border-color: transparent;\n",
              "      border-bottom-color: var(--fill-color);\n",
              "    }\n",
              "  }\n",
              "</style>\n",
              "\n",
              "  <script>\n",
              "    async function quickchart(key) {\n",
              "      const quickchartButtonEl =\n",
              "        document.querySelector('#' + key + ' button');\n",
              "      quickchartButtonEl.disabled = true;  // To prevent multiple clicks.\n",
              "      quickchartButtonEl.classList.add('colab-df-spinner');\n",
              "      try {\n",
              "        const charts = await google.colab.kernel.invokeFunction(\n",
              "            'suggestCharts', [key], {});\n",
              "      } catch (error) {\n",
              "        console.error('Error during call to suggestCharts:', error);\n",
              "      }\n",
              "      quickchartButtonEl.classList.remove('colab-df-spinner');\n",
              "      quickchartButtonEl.classList.add('colab-df-quickchart-complete');\n",
              "    }\n",
              "    (() => {\n",
              "      let quickchartButtonEl =\n",
              "        document.querySelector('#df-1b6a6dc1-e6d6-4fc6-93a2-0fa0aa520c38 button');\n",
              "      quickchartButtonEl.style.display =\n",
              "        google.colab.kernel.accessAllowed ? 'block' : 'none';\n",
              "    })();\n",
              "  </script>\n",
              "</div>\n",
              "    </div>\n",
              "  </div>\n"
            ],
            "application/vnd.google.colaboratory.intrinsic+json": {
              "type": "dataframe",
              "variable_name": "data_df",
              "summary": "{\n  \"name\": \"data_df\",\n  \"rows\": 9943,\n  \"fields\": [\n    {\n      \"column\": \"Category\",\n      \"properties\": {\n        \"dtype\": \"category\",\n        \"num_unique_values\": 13,\n        \"samples\": [\n          \"Tin t\\u1ee9c vi\\u1ec7c l\\u00e0m\",\n          \"Th\\u1ebf gi\\u1edbi\",\n          \"B\\u1ea5t \\u0111\\u1ed9ng s\\u1ea3n\"\n        ],\n        \"semantic_type\": \"\",\n        \"description\": \"\"\n      }\n    },\n    {\n      \"column\": \"Summary\",\n      \"properties\": {\n        \"dtype\": \"string\",\n        \"num_unique_values\": 9903,\n        \"samples\": [\n          \"Theo x\\u00e1c minh c\\u1ee7a PV B\\u00e1o Lao \\u0110\\u1ed9ng,\\u00a0ng\\u01b0\\u1eddi ph\\u1ee5 n\\u1eef b\\u00ea ph\\u1edf v\\u00e0o \\u0111i\\u1ec3m thi Tr\\u01b0\\u1eddng THCS Phan \\u0110\\u00ecnh Gi\\u00f3t s\\u00e1ng ng\\u00e0y 7.6 l\\u00e0 nh\\u00e2n vi\\u00ean c\\u1ee7a h\\u1ed9i \\u0111\\u1ed3ng thi n\\u00e0y ch\\u1ee9 kh\\u00f4ng ph\\u1ea3i l\\u00e0 nh\\u00e2n vi\\u00ean qu\\u00e1n ph\\u1edf nh\\u01b0 th\\u00f4ng b\\u00e1o c\\u1ee7a S\\u1edf GD\\u0110T H\\u00e0 N\\u1ed9i.\",\n          \"V\\u00e0o th\\u1eddi kh\\u1eafc giao th\\u1eeba (gi\\u1edd ch\\u00ednh T\\u00fd, t\\u1ee9c \\u0111\\u00fang 12 gi\\u1edd \\u0111\\u00eam 30 th\\u00e1ng Ch\\u1ea1p), c\\u00e1c gia \\u0111\\u00ecnh l\\u00e0m 2 m\\u00e2m c\\u00fang - c\\u00fang quan th\\u1ea7n v\\u00e0 gia ti\\u00ean \\u0111\\u1ec3 ti\\u1ec5n nh\\u1eefng \\u0111i\\u1ec1u kh\\u00f4ng t\\u1ed1t t\\u1eeb n\\u0103m c\\u0169 v\\u00e0 \\u0111\\u00f3n nh\\u1eefng \\u0111i\\u1ec1u t\\u1ed1t \\u0111\\u1eb9p trong n\\u0103m m\\u1edbi.\",\n          \"Ng\\u01b0\\u1eddi ph\\u1ee5 n\\u1eef th\\u01b0\\u1eddng quan ni\\u1ec7m \\u0111\\u00e0n \\u00f4ng y\\u00eau v\\u1ee3 s\\u1ebd lu\\u00f4n th\\u1ec3 hi\\u1ec7n c\\u1eed ch\\u1ec9 ch\\u0103m s\\u00f3c \\u00e2n c\\u1ea7n, nh\\u1eb9 nh\\u00e0ng m\\u00e0 kh\\u00f4ng h\\u1ec1 bi\\u1ebft r\\u1eb1ng k\\u1ec3 c\\u1ea3 khi t\\u1ee9c gi\\u1eadn, c\\u0169ng c\\u00f3 th\\u1ec3 l\\u00e0 do h\\u1ecd qu\\u00e1 lo l\\u1eafng cho b\\u1ea1n.\"\n        ],\n        \"semantic_type\": \"\",\n        \"description\": \"\"\n      }\n    },\n    {\n      \"column\": \"tokenized_contents\",\n      \"properties\": {\n        \"dtype\": \"string\",\n        \"num_unique_values\": 9797,\n        \"samples\": [\n          \"\\u0111\\u00f4_th\\u1ecb hi\\u1ec7n_nay m\\u1eadt_\\u0111\\u1ed9 d\\u00e2n_c\\u01b0 \\u0111\\u00f4ng_\\u0111\\u00fac di\\u1ec7n_t\\u00edch x\\u00e2y_d\\u1ef1ng eo_h\\u1eb9p d\\u1ec5_d\\u00e0ng \\u00e1nh_s\\u00e1ng t\\u1ef1_nhi\\u00ean m\\u1eb9o c\\u00f3_th\\u1ec3 gi\\u00fap ph\\u00f2ng tr\\u00e0n_ng\\u1eadp \\u00e1nh_s\\u00e1ng\",\n          \"ubnd huy\\u1ec7n s\\u00f3c s\\u01a1n h\\u00e0_n\\u1ed9i v\\u0103n_b\\u1ea3n t\\u1ea1m d\\u1eebng c\\u01b0\\u1ee1ng_ch\\u1ebf \\u0111\\u1ed1i_v\\u1edbi c\\u00f4ng_tr\\u00ecnh vi_ph\\u1ea1m tr\\u1eadt_t\\u1ef1 x\\u00e2y_d\\u1ef1ng th\\u00f4n minh t\\u00e2n x\\u00e3 minh_tr\\u00ed\",\n          \"\\u0111i h\\u1eb9n_h\\u00f2 ch\\u00e0ng c\\u1ea7u_th\\u1ee7 b\\u00f3ng_r\\u1ed5 vba h\\u1ed3ng gia l\\u00e2n c\\u00e1t t\\u01b0\\u1eddng xu\\u00fdt_xoa_v\\u1ebb nam_t\\u00ednh tuy_nhi\\u00ean cu\\u1ed1i_c\\u00f9ng n\\u1eef mc t\\u1eeb_ch\\u1ed1i h\\u1eb9n_h\\u00f2 h\\u1ee3p\"\n        ],\n        \"semantic_type\": \"\",\n        \"description\": \"\"\n      }\n    }\n  ]\n}"
            }
          },
          "metadata": {},
          "execution_count": 61
        }
      ]
    },
    {
      "cell_type": "code",
      "source": [
        "# Chia thành cột tokenized_contents và cột Category\n",
        "lstm_train_data = data_df\n",
        "sentences = lstm_train_data['tokenized_contents'].tolist()\n",
        "labels = lstm_train_data['Category'].tolist()\n",
        "lstm_train_data['Category'].unique()"
      ],
      "metadata": {
        "colab": {
          "base_uri": "https://localhost:8080/"
        },
        "id": "4-fCb9rrwzsM",
        "outputId": "60c39437-6189-4d1a-f808-d0860a6ac5df"
      },
      "execution_count": 62,
      "outputs": [
        {
          "output_type": "execute_result",
          "data": {
            "text/plain": [
              "array(['Bất động sản', 'Công nghệ', 'Văn hóa - Giải trí',\n",
              "       'Gia đình - Hôn nhân', 'Giáo dục', 'Tấm Lòng Vàng', 'Pháp luật',\n",
              "       'Sức khỏe', 'Thông tin tiện ích', 'Thế giới', 'Thể thao',\n",
              "       'Tin tức việc làm', 'Xe +'], dtype=object)"
            ]
          },
          "metadata": {},
          "execution_count": 62
        }
      ]
    },
    {
      "cell_type": "code",
      "source": [
        "# Sử dụng LabelEncoder để mã hóa nhãn\n",
        "label_encoder = LabelEncoder()\n",
        "labels_encoded = label_encoder.fit_transform(labels)\n",
        "labels_encoded"
      ],
      "metadata": {
        "colab": {
          "base_uri": "https://localhost:8080/"
        },
        "id": "e0J7XgjAw5jc",
        "outputId": "1f065519-be8e-4cd1-b099-caa419923238"
      },
      "execution_count": 63,
      "outputs": [
        {
          "output_type": "execute_result",
          "data": {
            "text/plain": [
              "array([ 0,  0,  0, ..., 12, 12, 12])"
            ]
          },
          "metadata": {},
          "execution_count": 63
        }
      ]
    },
    {
      "cell_type": "code",
      "source": [
        "# Xử lý dữ liệu văn bản\n",
        "tokenizer = Tokenizer()\n",
        "tokenizer.fit_on_texts(sentences)\n",
        "word_index = tokenizer.word_index\n",
        "vocab_size = len(word_index) + 1\n",
        "sequences = tokenizer.texts_to_sequences(sentences)\n",
        "sequences[:1]"
      ],
      "metadata": {
        "colab": {
          "base_uri": "https://localhost:8080/"
        },
        "id": "eGue_HlUw67P",
        "outputId": "9470e889-5a38-4560-df43-fb4057f2e7d6"
      },
      "execution_count": 64,
      "outputs": [
        {
          "output_type": "execute_result",
          "data": {
            "text/plain": [
              "[[501,\n",
              "  2623,\n",
              "  94,\n",
              "  47,\n",
              "  75,\n",
              "  2,\n",
              "  51,\n",
              "  34,\n",
              "  5,\n",
              "  364,\n",
              "  398,\n",
              "  1044,\n",
              "  1716,\n",
              "  14,\n",
              "  78,\n",
              "  14,\n",
              "  123,\n",
              "  793,\n",
              "  211,\n",
              "  953,\n",
              "  706,\n",
              "  588,\n",
              "  266,\n",
              "  208,\n",
              "  34,\n",
              "  5]]"
            ]
          },
          "metadata": {},
          "execution_count": 64
        }
      ]
    },
    {
      "cell_type": "code",
      "source": [
        "# Chia thành tập huấn luyện và tập kiểm tra\n",
        "X_train, X_test, y_train, y_test = train_test_split(sequences, labels_encoded, test_size=0.2, random_state=42)\n"
      ],
      "metadata": {
        "id": "hpOvWmGmw8eZ"
      },
      "execution_count": 65,
      "outputs": []
    },
    {
      "cell_type": "code",
      "source": [
        "# Chuẩn bị nhãn\n",
        "num_classes = len(label_encoder.classes_)\n",
        "one_hot_labels_train = to_categorical(y_train, num_classes=num_classes)\n",
        "one_hot_labels_test = to_categorical(y_test, num_classes=num_classes)"
      ],
      "metadata": {
        "id": "UCgwOJP7x56L"
      },
      "execution_count": 66,
      "outputs": []
    },
    {
      "cell_type": "code",
      "source": [
        "# Xử lý dữ liệu đầu vào\n",
        "max_length = max(len(seq) for seq in sequences)\n",
        "X_train = pad_sequences(X_train, maxlen=max_length)\n",
        "X_test = pad_sequences(X_test, maxlen=max_length)\n",
        "X_train"
      ],
      "metadata": {
        "colab": {
          "base_uri": "https://localhost:8080/"
        },
        "id": "O5jYt0t2w-VY",
        "outputId": "49381129-80a0-407d-ba61-cb557eaab913"
      },
      "execution_count": 67,
      "outputs": [
        {
          "output_type": "execute_result",
          "data": {
            "text/plain": [
              "array([[   0,    0,    0, ...,  201,    8,    4],\n",
              "       [   0,    0,    0, ...,  996,  708,  340],\n",
              "       [   0,    0,    0, ..., 1102,  481,    5],\n",
              "       ...,\n",
              "       [   0,    0,    0, ..., 6316, 6317, 6318],\n",
              "       [   0,    0,    0, ...,  150,  928,   39],\n",
              "       [   0,    0,    0, ...,  159, 2924, 3395]], dtype=int32)"
            ]
          },
          "metadata": {},
          "execution_count": 67
        }
      ]
    },
    {
      "cell_type": "code",
      "source": [
        "from keras.layers import Dropout\n",
        "embedding_dim = 100\n",
        "\n",
        "model = Sequential()\n",
        "model.add(Embedding(vocab_size, embedding_dim, input_length=max_length))\n",
        "model.add(LSTM(128, return_sequences=True))\n",
        "model.add(Dropout(0.2))\n",
        "model.add(LSTM(64, return_sequences=True))\n",
        "model.add(Dropout(0.2))\n",
        "model.add(LSTM(32, return_sequences=True))\n",
        "model.add(Dropout(0.2))\n",
        "model.add(LSTM(16))  # Số chiều đầu ra của LSTM cuối cùng\n",
        "model.add(Dense(num_classes, activation='softmax'))\n",
        "\n",
        "model.compile(loss='categorical_crossentropy', optimizer='adam', metrics=['accuracy'])\n",
        "\n",
        "model.summary()\n"
      ],
      "metadata": {
        "id": "lkfYOLC-2q4T",
        "colab": {
          "base_uri": "https://localhost:8080/"
        },
        "outputId": "c974e906-e419-42f4-aa67-84cfbff9c3ef"
      },
      "execution_count": 68,
      "outputs": [
        {
          "output_type": "stream",
          "name": "stdout",
          "text": [
            "Model: \"sequential_1\"\n",
            "_________________________________________________________________\n",
            " Layer (type)                Output Shape              Param #   \n",
            "=================================================================\n",
            " embedding_1 (Embedding)     (None, 215, 100)          828500    \n",
            "                                                                 \n",
            " lstm_4 (LSTM)               (None, 215, 128)          117248    \n",
            "                                                                 \n",
            " dropout_3 (Dropout)         (None, 215, 128)          0         \n",
            "                                                                 \n",
            " lstm_5 (LSTM)               (None, 215, 64)           49408     \n",
            "                                                                 \n",
            " dropout_4 (Dropout)         (None, 215, 64)           0         \n",
            "                                                                 \n",
            " lstm_6 (LSTM)               (None, 215, 32)           12416     \n",
            "                                                                 \n",
            " dropout_5 (Dropout)         (None, 215, 32)           0         \n",
            "                                                                 \n",
            " lstm_7 (LSTM)               (None, 16)                3136      \n",
            "                                                                 \n",
            " dense_1 (Dense)             (None, 13)                221       \n",
            "                                                                 \n",
            "=================================================================\n",
            "Total params: 1010929 (3.86 MB)\n",
            "Trainable params: 1010929 (3.86 MB)\n",
            "Non-trainable params: 0 (0.00 Byte)\n",
            "_________________________________________________________________\n"
          ]
        }
      ]
    },
    {
      "cell_type": "code",
      "source": [
        "history = model.fit(X_train, one_hot_labels_train, epochs=10, batch_size=32, validation_data=(X_test, one_hot_labels_test))"
      ],
      "metadata": {
        "colab": {
          "base_uri": "https://localhost:8080/"
        },
        "id": "H4ddqbglyWDC",
        "outputId": "1abe8ce3-08ff-4870-c383-6b329890c0bf"
      },
      "execution_count": 69,
      "outputs": [
        {
          "output_type": "stream",
          "name": "stdout",
          "text": [
            "Epoch 1/10\n",
            "249/249 [==============================] - 27s 80ms/step - loss: 2.1834 - accuracy: 0.2052 - val_loss: 1.8802 - val_accuracy: 0.3318\n",
            "Epoch 2/10\n",
            "249/249 [==============================] - 10s 41ms/step - loss: 1.5731 - accuracy: 0.4555 - val_loss: 1.4867 - val_accuracy: 0.5053\n",
            "Epoch 3/10\n",
            "249/249 [==============================] - 9s 38ms/step - loss: 1.1566 - accuracy: 0.6362 - val_loss: 1.2404 - val_accuracy: 0.6078\n",
            "Epoch 4/10\n",
            "249/249 [==============================] - 9s 37ms/step - loss: 0.8704 - accuracy: 0.7460 - val_loss: 1.0654 - val_accuracy: 0.6853\n",
            "Epoch 5/10\n",
            "249/249 [==============================] - 9s 35ms/step - loss: 0.6692 - accuracy: 0.8187 - val_loss: 1.0091 - val_accuracy: 0.7179\n",
            "Epoch 6/10\n",
            "249/249 [==============================] - 9s 35ms/step - loss: 0.5118 - accuracy: 0.8696 - val_loss: 1.0232 - val_accuracy: 0.7215\n",
            "Epoch 7/10\n",
            "249/249 [==============================] - 9s 36ms/step - loss: 0.4153 - accuracy: 0.8989 - val_loss: 1.0248 - val_accuracy: 0.7285\n",
            "Epoch 8/10\n",
            "249/249 [==============================] - 7s 30ms/step - loss: 0.3398 - accuracy: 0.9194 - val_loss: 1.0530 - val_accuracy: 0.7270\n",
            "Epoch 9/10\n",
            "249/249 [==============================] - 9s 37ms/step - loss: 0.3014 - accuracy: 0.9276 - val_loss: 1.0166 - val_accuracy: 0.7496\n",
            "Epoch 10/10\n",
            "249/249 [==============================] - 9s 35ms/step - loss: 0.2589 - accuracy: 0.9359 - val_loss: 1.0389 - val_accuracy: 0.7396\n"
          ]
        }
      ]
    },
    {
      "cell_type": "code",
      "source": [
        "# Đánh giá mô hình trên tập kiểm tra\n",
        "loss, accuracy = model.evaluate(X_test, one_hot_labels_test)\n",
        "print('Loss:', loss)\n",
        "print('Accuracy:', accuracy)"
      ],
      "metadata": {
        "id": "1-bjV6KxzBZU",
        "colab": {
          "base_uri": "https://localhost:8080/"
        },
        "outputId": "c5212bfb-cb45-48f1-b6ff-a9bd08d6a1cd"
      },
      "execution_count": 70,
      "outputs": [
        {
          "output_type": "stream",
          "name": "stdout",
          "text": [
            "63/63 [==============================] - 1s 12ms/step - loss: 1.0389 - accuracy: 0.7396\n",
            "Loss: 1.0389206409454346\n",
            "Accuracy: 0.7395676374435425\n"
          ]
        }
      ]
    },
    {
      "cell_type": "code",
      "source": [
        "from sklearn.metrics import classification_report\n",
        "# Đánh giá mô hình trên tập kiểm tra\n",
        "y_pred = model.predict(X_test)\n",
        "y_pred = np.argmax(y_pred, axis=1)\n",
        "y_test = np.argmax(one_hot_labels_test, axis=1)\n",
        "\n",
        "print(classification_report(y_test, y_pred))"
      ],
      "metadata": {
        "id": "cecbslx166Ta",
        "colab": {
          "base_uri": "https://localhost:8080/"
        },
        "outputId": "9cc105eb-358c-42e3-8431-8c30686a221f"
      },
      "execution_count": 71,
      "outputs": [
        {
          "output_type": "stream",
          "name": "stdout",
          "text": [
            "63/63 [==============================] - 2s 11ms/step\n",
            "              precision    recall  f1-score   support\n",
            "\n",
            "           0       0.91      0.65      0.76       185\n",
            "           1       0.53      0.59      0.56       116\n",
            "           2       0.62      0.62      0.62       180\n",
            "           3       0.87      0.87      0.87       187\n",
            "           4       0.84      0.73      0.78       194\n",
            "           5       0.71      0.72      0.71       194\n",
            "           6       0.82      0.86      0.84        21\n",
            "           7       0.70      0.67      0.68       183\n",
            "           8       0.92      0.80      0.86       187\n",
            "           9       0.85      0.61      0.71        38\n",
            "          10       0.88      0.82      0.85       156\n",
            "          11       0.55      0.78      0.65       196\n",
            "          12       0.73      0.88      0.80       152\n",
            "\n",
            "    accuracy                           0.74      1989\n",
            "   macro avg       0.76      0.74      0.74      1989\n",
            "weighted avg       0.76      0.74      0.74      1989\n",
            "\n"
          ]
        }
      ]
    },
    {
      "cell_type": "code",
      "source": [
        "# # Lưu mô hình với encoding UTF-8\n",
        "# joblib.dump(model, 'lstm_model.joblib')"
      ],
      "metadata": {
        "id": "teTDUGrwzDW0"
      },
      "execution_count": 72,
      "outputs": []
    },
    {
      "cell_type": "code",
      "source": [
        "\n",
        "import numpy as np\n",
        "import time\n",
        "import matplotlib.pyplot as plt\n",
        "import seaborn as sns\n",
        "from sklearn.metrics import confusion_matrix"
      ],
      "metadata": {
        "id": "sBG8nhHY631u"
      },
      "execution_count": 79,
      "outputs": []
    },
    {
      "cell_type": "code",
      "source": [
        "batch_size = 32\n",
        "epochs = 1\n",
        "\n",
        "train_times = []  # Lưu trữ thời gian huấn luyện\n",
        "\n",
        "for i in range(10):\n",
        "    start_time = time.time()\n",
        "    history = model.fit(X_train, one_hot_labels_train, batch_size=batch_size, epochs=epochs, validation_data=(X_test, one_hot_labels_test))\n",
        "    end_time = time.time()\n",
        "    train_time = end_time - start_time\n",
        "    train_times.append(train_time)\n",
        "    print(f\"Completed training {i + 1} time(s). Training time: {train_time:.2f}s\")"
      ],
      "metadata": {
        "id": "lwi56bkO7qj3",
        "colab": {
          "base_uri": "https://localhost:8080/"
        },
        "outputId": "bd4de355-9222-46fc-d010-8438c577f77d"
      },
      "execution_count": 80,
      "outputs": [
        {
          "output_type": "stream",
          "name": "stdout",
          "text": [
            "249/249 [==============================] - 9s 35ms/step - loss: 0.2289 - accuracy: 0.9453 - val_loss: 1.0906 - val_accuracy: 0.7421\n",
            "Completed training 1 time(s). Training time: 8.71s\n",
            "249/249 [==============================] - 8s 33ms/step - loss: 0.2008 - accuracy: 0.9534 - val_loss: 1.0960 - val_accuracy: 0.7541\n",
            "Completed training 2 time(s). Training time: 10.32s\n",
            "249/249 [==============================] - 9s 38ms/step - loss: 0.1746 - accuracy: 0.9612 - val_loss: 1.0876 - val_accuracy: 0.7552\n",
            "Completed training 3 time(s). Training time: 10.29s\n",
            "249/249 [==============================] - 9s 35ms/step - loss: 0.1522 - accuracy: 0.9666 - val_loss: 1.1687 - val_accuracy: 0.7401\n",
            "Completed training 4 time(s). Training time: 10.29s\n",
            "249/249 [==============================] - 9s 35ms/step - loss: 0.1406 - accuracy: 0.9677 - val_loss: 1.1300 - val_accuracy: 0.7526\n",
            "Completed training 5 time(s). Training time: 8.76s\n",
            "249/249 [==============================] - 8s 33ms/step - loss: 0.1236 - accuracy: 0.9725 - val_loss: 1.1262 - val_accuracy: 0.7627\n",
            "Completed training 6 time(s). Training time: 8.44s\n",
            "249/249 [==============================] - 9s 36ms/step - loss: 0.1212 - accuracy: 0.9722 - val_loss: 1.1657 - val_accuracy: 0.7511\n",
            "Completed training 7 time(s). Training time: 8.99s\n",
            "249/249 [==============================] - 8s 34ms/step - loss: 0.1027 - accuracy: 0.9770 - val_loss: 1.1015 - val_accuracy: 0.7682\n",
            "Completed training 8 time(s). Training time: 10.29s\n",
            "249/249 [==============================] - 8s 32ms/step - loss: 0.0906 - accuracy: 0.9809 - val_loss: 1.1226 - val_accuracy: 0.7617\n",
            "Completed training 9 time(s). Training time: 10.28s\n",
            "249/249 [==============================] - 8s 33ms/step - loss: 0.0817 - accuracy: 0.9825 - val_loss: 1.1565 - val_accuracy: 0.7682\n",
            "Completed training 10 time(s). Training time: 10.29s\n"
          ]
        }
      ]
    },
    {
      "cell_type": "code",
      "source": [
        "# Vẽ đồ thị thời gian huấn luyện\n",
        "plt.plot(range(1, 11, 1), train_times, marker='o', linestyle='-', color='blue')\n",
        "plt.axhline(y=np.mean(train_times), color='red', linestyle='--')\n",
        "plt.xlabel('Training Iteration')\n",
        "plt.ylabel('Training Time (seconds)')\n",
        "plt.title('Training Time per Iteration')\n",
        "plt.grid(True)\n",
        "plt.show()\n"
      ],
      "metadata": {
        "id": "_QD33XV664T3",
        "colab": {
          "base_uri": "https://localhost:8080/",
          "height": 472
        },
        "outputId": "03535c30-d3bd-4a5d-f24a-d4cad506a59d"
      },
      "execution_count": 81,
      "outputs": [
        {
          "output_type": "display_data",
          "data": {
            "text/plain": [
              "<Figure size 640x480 with 1 Axes>"
            ],
            "image/png": "[encoded data removed]"
          },
          "metadata": {}
        }
      ]
    },
    {
      "cell_type": "code",
      "source": [
        "# Biểu diễn trực quan mô hình (Dự đoán - Thực tế)\n",
        "\n",
        "# Dự đoán nhãn trên tập kiểm tra\n",
        "test_predictions = model.predict(X_test)\n",
        "test_predicted_labels = label_encoder.inverse_transform(np.argmax(test_predictions, axis=1))\n",
        "\n",
        "# Tính toán ma trận nhầm lẫn trên tập kiểm tra\n",
        "test_cm = confusion_matrix(label_encoder.inverse_transform(np.argmax(one_hot_labels_test, axis=1)), test_predicted_labels)\n",
        "\n",
        "# Trực quan hóa ma trận nhầm lẫn trên tập kiểm tra\n",
        "plt.figure(figsize=(15, 12))\n",
        "sns.heatmap(test_cm, annot=True, fmt='d', cmap='Blues', annot_kws={\"fontsize\": 6})\n",
        "plt.xlabel('Predicted Labels')\n",
        "plt.ylabel('True Labels')\n",
        "plt.title('Confusion Matrix - Test Data')\n",
        "plt.show()"
      ],
      "metadata": {
        "id": "88BVlfp_7IDT",
        "colab": {
          "base_uri": "https://localhost:8080/",
          "height": 1000
        },
        "outputId": "b8f06710-255a-494e-83d8-89bcddf6057f"
      },
      "execution_count": 82,
      "outputs": [
        {
          "output_type": "stream",
          "name": "stdout",
          "text": [
            "63/63 [==============================] - 1s 17ms/step\n"
          ]
        },
        {
          "output_type": "display_data",
          "data": {
            "text/plain": [
              "<Figure size 1500x1200 with 2 Axes>"
            ],
            "image/png": "[encoded data removed]"
          },
          "metadata": {}
        }
      ]
    },
    {
      "cell_type": "markdown",
      "source": [
        "# Dự đoán"
      ],
      "metadata": {
        "id": "r7B2A7QQuy-x"
      }
    },
    {
      "cell_type": "code",
      "source": [
        "stopword_file = '/content/drive/MyDrive/data/News/data VN/vietnamese.txt'"
      ],
      "metadata": {
        "id": "BmDe7UUPzmuk"
      },
      "execution_count": 73,
      "outputs": []
    },
    {
      "cell_type": "code",
      "source": [
        "# Đọc danh sách từ stopword từ tệp\n",
        "with open(stopword_file, 'r', encoding='utf-8') as f:\n",
        "    stopword_list = [word.strip() for word in f.readlines()]"
      ],
      "metadata": {
        "id": "KWB2C-kazkSR"
      },
      "execution_count": 74,
      "outputs": []
    },
    {
      "cell_type": "code",
      "source": [
        "# Chuẩn bị 5 câu test ngẫu nhiên\n",
        "import random\n",
        "\n",
        "new_sentences = data['Summary'].tolist()\n",
        "\n",
        "random_indexes = random.sample(range(len(new_sentences)), 5)\n",
        "random_sentences = [new_sentences[i] for i in random_indexes]\n",
        "\n",
        "print(\"Câu test:\", random_sentences)"
      ],
      "metadata": {
        "id": "6uiWTMOLzfa-",
        "colab": {
          "base_uri": "https://localhost:8080/"
        },
        "outputId": "42b6aabb-dfc5-4a8e-c7a7-ce24af327543"
      },
      "execution_count": 75,
      "outputs": [
        {
          "output_type": "stream",
          "name": "stdout",
          "text": [
            "Câu test: ['Các nhà nghiên cứu cho rằng, tinh tinh nắm chặt tay nhau khi chải chuốt cho nhau và mỗi nhóm có cách nắm tay riêng biệt, tương tự như hành vi bắt tay ở người.', 'Điều người mua chung cư quan tâm chính là thủ tục xin cấp sổ hồng và những khoản lệ phí phải nộp.', 'Các bậc phụ huynh cần quan tâm hướng dẫn các bé cách ăn uống lịch sự, gọn gàng và tránh mắc những lỗi cơ bản.', 'Sau khi bà xã sinh con đầu lòng, diễn viên Chi Bảo mạnh tay chi khoảng 20 tỉ đồng sắm Bentley Flying Spur tặng vợ.', 'Tại các thành phố lớn, khi diện tích ngày càng hạn hẹp, phương tiện đi lại gia tăng thì việc thiết kế gara ô tô, nhất là đối với nhà ống được đặc biệt quan tâm.']\n"
          ]
        }
      ]
    },
    {
      "cell_type": "code",
      "source": [
        "# Tiền xử lý câu mới\n",
        "preprocessed_sentences = []\n",
        "for sentence in random_sentences:\n",
        "    preprocessed_sentence = re.sub(r'[^\\w\\s]', '', sentence)  # Loại bỏ dấu câu không cần thiết\n",
        "    preprocessed_sentence = ViTokenizer.tokenize(preprocessed_sentence)   # Tokenize câu sử dụng ViTokenizer\n",
        "    words = preprocessed_sentence.split()\n",
        "    words = [word for word in words if word.lower() not in stopword_list]  # Loại bỏ stopword\n",
        "    preprocessed_sentence = ' '.join(words)\n",
        "    preprocessed_sentences.append(preprocessed_sentence)"
      ],
      "metadata": {
        "id": "Kq0xMR82zEmP"
      },
      "execution_count": 76,
      "outputs": []
    },
    {
      "cell_type": "code",
      "source": [
        "# Chuyển đổi câu mới thành chuỗi số\n",
        "new_sequences_5 = tokenizer.texts_to_sequences(preprocessed_sentences)\n",
        "new_sequences_5 = pad_sequences(new_sequences_5, maxlen=max_length)\n",
        "\n"
      ],
      "metadata": {
        "id": "5Eq82eWKzbdm"
      },
      "execution_count": 77,
      "outputs": []
    },
    {
      "cell_type": "code",
      "source": [
        "# Dự đoán nhãn cho 5 câu ngẫu nhiên\n",
        "predictions_5 = model.predict(new_sequences_5)\n",
        "predicted_labels_5 = label_encoder.inverse_transform(np.argmax(predictions_5, axis=1))\n",
        "\n",
        "# In kết quả dự đoán cho 5 câu\n",
        "for sentence, label in zip(random_sentences, predicted_labels_5):\n",
        "    print(\"Câu test:\", sentence)\n",
        "    print(\"Giá trị dự đoán:\", label)\n",
        "    print()"
      ],
      "metadata": {
        "id": "L1ZLvenZzdaj",
        "colab": {
          "base_uri": "https://localhost:8080/"
        },
        "outputId": "8f385a4a-c793-42fa-ace9-09120addf3ad"
      },
      "execution_count": 78,
      "outputs": [
        {
          "output_type": "stream",
          "name": "stdout",
          "text": [
            "1/1 [==============================] - 0s 26ms/step\n",
            "Câu test: Các nhà nghiên cứu cho rằng, tinh tinh nắm chặt tay nhau khi chải chuốt cho nhau và mỗi nhóm có cách nắm tay riêng biệt, tương tự như hành vi bắt tay ở người.\n",
            "Giá trị dự đoán: Công nghệ\n",
            "\n",
            "Câu test: Điều người mua chung cư quan tâm chính là thủ tục xin cấp sổ hồng và những khoản lệ phí phải nộp.\n",
            "Giá trị dự đoán: Bất động sản\n",
            "\n",
            "Câu test: Các bậc phụ huynh cần quan tâm hướng dẫn các bé cách ăn uống lịch sự, gọn gàng và tránh mắc những lỗi cơ bản.\n",
            "Giá trị dự đoán: Gia đình - Hôn nhân\n",
            "\n",
            "Câu test: Sau khi bà xã sinh con đầu lòng, diễn viên Chi Bảo mạnh tay chi khoảng 20 tỉ đồng sắm Bentley Flying Spur tặng vợ.\n",
            "Giá trị dự đoán: Xe +\n",
            "\n",
            "Câu test: Tại các thành phố lớn, khi diện tích ngày càng hạn hẹp, phương tiện đi lại gia tăng thì việc thiết kế gara ô tô, nhất là đối với nhà ống được đặc biệt quan tâm.\n",
            "Giá trị dự đoán: Bất động sản\n",
            "\n"
          ]
        }
      ]
    },
    {
      "cell_type": "code",
      "source": [
        "new_sentences = [\n",
        "    \"TPO - Luật sư của bà Trương Mỹ Lan đề nghị HĐXX xem xét lại tội danh \"\"Tham ô tài sản\"\", tuy nhiên đại diện Viện Kiểm sát khẳng định truy tố tội danh này đối với bà Lan là có cơ sở.\"\n",
        "]\n",
        "# Tiền xử lý câu mới\n",
        "preprocessed_sentences = []\n",
        "for sentence in new_sentences:\n",
        "    sentence = re.sub(r'[^\\w\\s]', '', sentence)\n",
        "    sentence = ViTokenizer.tokenize(sentence)\n",
        "    words = sentence.split()\n",
        "    words = [word for word in words if word.lower() not in stopword_list]\n",
        "    sentence = ' '.join(words)\n",
        "    preprocessed_sentences.append(sentence)\n",
        "\n",
        "# Chuyển đổi câu mới thành chuỗi số\n",
        "new_sequences = tokenizer.texts_to_sequences(preprocessed_sentences)\n",
        "new_sequences = pad_sequences(new_sequences, maxlen=max_length)\n",
        "\n",
        "# Dự đoán nhãn cho các câu mới\n",
        "predictions = model.predict(new_sequences)\n",
        "predicted_labels = label_encoder.inverse_transform(np.argmax(predictions, axis=1))\n",
        "\n",
        "# In kết quả dự đoán\n",
        "for sentence, label in zip(new_sentences, predicted_labels):\n",
        "    print(\"Sentence:\", sentence)\n",
        "    print(\"Predicted label:\", label)\n",
        "    print()\n"
      ],
      "metadata": {
        "colab": {
          "base_uri": "https://localhost:8080/"
        },
        "id": "XTri5lK-uQGj",
        "outputId": "7d93ad5c-9aa0-43a3-9497-edc42bea6ed1"
      },
      "execution_count": 93,
      "outputs": [
        {
          "output_type": "stream",
          "name": "stdout",
          "text": [
            "1/1 [==============================] - 0s 79ms/step\n",
            "Sentence: TPO - Luật sư của bà Trương Mỹ Lan đề nghị HĐXX xem xét lại tội danh Tham ô tài sản, tuy nhiên đại diện Viện Kiểm sát khẳng định truy tố tội danh này đối với bà Lan là có cơ sở.\n",
            "Predicted label: Pháp luật\n",
            "\n"
          ]
        }
      ]
    },
    {
      "cell_type": "code",
      "source": [
        "# Trong thời gian qua, Liên đoàn bóng đá Việt Nam (VFF) đã nhận được khá nhiều đơn ứng cử ghế HLV trưởng đội tuyển quốc gia. Cùng điểm qua một vài HLV danh tiếng trong danh sách này.\n",
        "# Những mẫu ô tô mới có thể ra mắt Việt Nam ngay trong tháng 4 toàn bộ là xe gầm cao, chủ yếu nằm ở phân khúc phổ thông có giá bán dễ tiếp cận.\n",
        "# Công nghệ AI đang thay đổi cách chúng ta tương tác với thế giới, từ việc giúp chúng ta tìm kiếm thông tin nhanh chóng đến việc tạo ra trợ lý ảo thông minh."
      ],
      "metadata": {
        "id": "NzUu5BqZuQDN"
      },
      "execution_count": null,
      "outputs": []
    },
    {
      "cell_type": "code",
      "source": [],
      "metadata": {
        "id": "2WtV6kU07Igy"
      },
      "execution_count": 82,
      "outputs": []
    }
  ]
}